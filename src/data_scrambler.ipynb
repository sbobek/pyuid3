{
 "cells": [
  {
   "cell_type": "code",
   "execution_count": null,
   "id": "further-boating",
   "metadata": {},
   "outputs": [],
   "source": [
    "class DataScrambler:\n",
    "    def __init__(self):\n",
    "        pass"
   ]
  },
  {
   "cell_type": "code",
   "execution_count": null,
   "id": "surface-second",
   "metadata": {},
   "outputs": [],
   "source": [
    "class configuration:\n",
    "    def __init__(self, att_name: str, to_scramble: float, mistake_epsilon:float, uniform: bool):\n",
    "        self.attName = att_name\n",
    "        self.toScramble = to_scramble\n",
    "        self.mistakeEpsilon = mistake_epsilon\n",
    "        self.uniform = uniform\n"
   ]
  },
  {
   "cell_type": "code",
   "execution_count": null,
   "id": "signal-lawyer",
   "metadata": {},
   "outputs": [],
   "source": []
  }
 ],
 "metadata": {
  "kernelspec": {
   "display_name": "udtree",
   "language": "python",
   "name": "udtree"
  }
 },
 "nbformat": 4,
 "nbformat_minor": 5
}
