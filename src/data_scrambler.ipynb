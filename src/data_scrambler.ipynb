{
 "cells": [
  {
   "cell_type": "code",
   "execution_count": null,
   "id": "wound-closer",
   "metadata": {},
   "outputs": [],
   "source": [
    "# default_exp data_scrambler"
   ]
  },
  {
   "cell_type": "markdown",
   "id": "overall-henry",
   "metadata": {},
   "source": [
    "# DataScrambler\n",
    "\n",
    "> Class responsible for adding uncertainity to data for given attributes.\n"
   ]
  },
  {
   "cell_type": "code",
   "execution_count": null,
   "id": "clinical-investigator",
   "metadata": {},
   "outputs": [],
   "source": [
    "# export\n",
    "from pyuid3.data import Data\n",
    "from pyuid3.reading import Reading\n",
    "from pyuid3.value import Value\n",
    "from pyuid3.instance import Instance\n",
    "from typing import List\n",
    "import random"
   ]
  },
  {
   "cell_type": "code",
   "execution_count": null,
   "id": "express-catch",
   "metadata": {},
   "outputs": [],
   "source": [
    "# export\n",
    "class DataScrambler:\n",
    "    @staticmethod\n",
    "    def scramble_data(original: Data, conf: List['Configuration']) -> Data:\n",
    "        atts = original.get_attributes()\n",
    "        inst = []\n",
    "        name = original.get_name() + '_scrambled'\n",
    "\n",
    "        # create random for different configurations\n",
    "        idxs_for_scrambling = {}\n",
    "        for c in conf:\n",
    "            idxs_for_scrambling[c] = DataScrambler.get_indices(\n",
    "                int(c.to_scramble * len(original.get_instances())), len(original.get_instances()))\n",
    "\n",
    "        instance_idx = 0\n",
    "        for i in original.get_instances():\n",
    "            new_instance = Instance()\n",
    "            scrambled = []\n",
    "            for c in conf:\n",
    "                if instance_idx in idxs_for_scrambling[c]:\n",
    "                    to_scramble = i.get_reading_for_attribute(c.att_name)\n",
    "                    scrambled_readings = []\n",
    "\n",
    "                    # scramble, add to scrambled\n",
    "                    best_val = to_scramble.get_most_probable()\n",
    "                    scrambled_readings.append(Value(best_val.get_name(), best_val.get_confidence() - c.mistake_epsilon))\n",
    "                    to_be_selected = []\n",
    "                    for v in to_scramble.get_values():\n",
    "                        if v == best_val:\n",
    "                            continue\n",
    "                        if c.uniform:\n",
    "                            scrambled_readings.append(Value(v.get_name(),\n",
    "                                v.get_confidence() + c.mistake_epsilon/(len(to_scramble.get_values()) - 1)))\n",
    "                        else:\n",
    "                            to_be_selected.append(v)\n",
    "\n",
    "                    if to_be_selected:\n",
    "                        rand = random.randint(0, len(to_be_selected) - 1)\n",
    "                        winner = to_be_selected[rand]\n",
    "                        scrambled_readings.append(\n",
    "                            Value(winner.get_name(), winner.get_confidence() + c.mistake_epsilon))\n",
    "                        to_be_selected.remove(winner)\n",
    "\n",
    "                    scrambled_readings += to_be_selected\n",
    "\n",
    "                    # now, we have complete reading in scrambled reading, add it to scrambled\n",
    "                    scrambled.append(Reading(original.get_attribute_of_name(c.att_name), scrambled_readings))\n",
    "\n",
    "            # add scrambled and not scrambled to new instance - remember to keep the order of the original data\n",
    "            for orig_reading in i.get_readings():\n",
    "                # find in scrambled\n",
    "                was_scrambled = False\n",
    "                for scr_reading in scrambled:\n",
    "                    if scr_reading.get_base_att().get_name() == orig_reading.get_base_att().get_name():\n",
    "                        new_instance.add_reading(scr_reading)\n",
    "                        was_scrambled = True\n",
    "                        break\n",
    "                if not was_scrambled:\n",
    "                    new_instance.add_reading(orig_reading)\n",
    "\n",
    "            # add instance\n",
    "            inst.append(new_instance)\n",
    "            instance_idx += 1\n",
    "\n",
    "        return Data(name, atts, inst)\n",
    "\n",
    "    @staticmethod\n",
    "    def get_indices(number: int, length: int) -> List[int]:\n",
    "        indices = [i for i in range(length)]\n",
    "        random.shuffle(indices)\n",
    "        return indices[:number]\n",
    "\n",
    "    class Configuration:\n",
    "        def __init__(self, att_name: str, to_scramble: float, mistake_epsilon: float, uniform: bool):\n",
    "            \"\"\"\n",
    "            Data scrambler configuration.\n",
    "            \n",
    "            Parameters\n",
    "            ----------\n",
    "            att_name : str\n",
    "                Attribute name which values has to be made uncertain.\n",
    "            to_scramble : float\n",
    "                How much data (0-1) has to be scrambled.\n",
    "            mistake_epsilon : float\n",
    "                By what factor the data have to be scrambled. \n",
    "                In other words, how much certainty has to be subtracted from the real\n",
    "                value and assigned to other values.\n",
    "            uniform : bool\n",
    "                Does the probability have to be split between other values uniformly, \n",
    "                or should one of the value be picked  randomly as 'favorable mistake'.\n",
    "            \"\"\"\n",
    "            self.att_name = att_name\n",
    "            self.to_scramble = to_scramble\n",
    "            self.mistake_epsilon = mistake_epsilon\n",
    "            self.uniform = uniform\n"
   ]
  },
  {
   "cell_type": "markdown",
   "id": "polar-computer",
   "metadata": {},
   "source": [
    "## Examples"
   ]
  },
  {
   "cell_type": "code",
   "execution_count": null,
   "id": "similar-contribution",
   "metadata": {},
   "outputs": [],
   "source": [
    "# data = Data.parse_uarff(\"../resources/weather.nominal.arff\")\n",
    "# config = DataScrambler.Configuration('outlook', 0.8, 0.3, uniform=True)\n",
    "# data_scrambled = DataScrambler.scramble_data(data, [config])\n",
    "# print(data_scrambled.to_uarff())"
   ]
  },
  {
   "cell_type": "code",
   "execution_count": null,
   "id": "outdoor-lyric",
   "metadata": {},
   "outputs": [],
   "source": [
    "# data = Data.parse_uarff(\"../resources/weather.nominal.arff\")\n",
    "# config = DataScrambler.Configuration('outlook', 0.8, 0.3, uniform=False)\n",
    "# data_scrambled = DataScrambler.scramble_data(data, [config])\n",
    "# print(data_scrambled.to_uarff())"
   ]
  }
 ],
 "metadata": {
  "kernelspec": {
   "display_name": "Python 3",
   "language": "python",
   "name": "python3"
  }
 },
 "nbformat": 4,
 "nbformat_minor": 5
}
