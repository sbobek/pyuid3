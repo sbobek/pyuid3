{
 "cells": [
  {
   "cell_type": "code",
   "execution_count": null,
   "id": "golden-macedonia",
   "metadata": {},
   "outputs": [],
   "source": [
    "# default_exp data_scrambler"
   ]
  },
  {
   "cell_type": "markdown",
   "id": "promising-lesbian",
   "metadata": {},
   "source": [
    "# data_scrambler\n",
    "\n",
    "> Data scrambler."
   ]
  },
  {
   "cell_type": "code",
   "execution_count": null,
   "id": "surgical-instruction",
   "metadata": {},
   "outputs": [],
   "source": [
    "# export\n",
    "class DataScrambler:\n",
    "    def __init__(self):\n",
    "        pass"
   ]
  },
  {
   "cell_type": "code",
   "execution_count": null,
   "id": "central-darwin",
   "metadata": {},
   "outputs": [],
   "source": [
    "# export\n",
    "class configuration:\n",
    "    def __init__(self, att_name: str, to_scramble: float, mistake_epsilon:float, uniform: bool):\n",
    "        self.attName = att_name\n",
    "        self.toScramble = to_scramble\n",
    "        self.mistakeEpsilon = mistake_epsilon\n",
    "        self.uniform = uniform\n"
   ]
  },
  {
   "cell_type": "code",
   "execution_count": null,
   "id": "speaking-services",
   "metadata": {},
   "outputs": [],
   "source": []
  }
 ],
 "metadata": {
  "kernelspec": {
   "display_name": "Python 3",
   "language": "python",
   "name": "python3"
  }
 },
 "nbformat": 4,
 "nbformat_minor": 5
}
