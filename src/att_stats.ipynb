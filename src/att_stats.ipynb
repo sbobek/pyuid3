{
 "cells": [
  {
   "cell_type": "code",
   "execution_count": null,
   "metadata": {},
   "outputs": [],
   "source": [
    "# default_exp att_stats"
   ]
  },
  {
   "cell_type": "markdown",
   "metadata": {},
   "source": [
    "# AttStats\n",
    "\n",
    "> Class representing attribute statistics.\n"
   ]
  },
  {
   "cell_type": "markdown",
   "metadata": {},
   "source": [
    "Attribute statistics consist of the average confidence for the attribute and the average confidence for each of it's values.\n",
    "\n",
    "**Example:**\n",
    "\n",
    "\"@attribute outlook {sunny, overcast, rainy}\n",
    "<br> @attribute temperature {hot, mild, cool}\n",
    "<br>\n",
    "<br> @data\n",
    "<br> sunny[0.5];rainy[0.3];overcast[0.2],hot\n",
    "<br> sunny[0.1];rainy[0.4];overcast[0.5],mild\n",
    "<br> sunny[0.7];rainy[0.1];overcast[0.2],cool\"\n",
    "\n",
    "Statistics for \"outlook\" attribute are as follows:\n",
    " * average confidence: ( max(0.5, 0.3, 0.2) + max(0.1, 0.4, 0.5) + max(0.7, 0.1, 0.2) ) / 3 = 0.57\n",
    " * statistics: [(0.5 + 0.1 + 0.7) / 3, (0.3 + 0.4 + 0.1) / 3, (0.2 + 0.5 + 0.2) / 3] = [0.43, 0.27, 0.3]"
   ]
  },
  {
   "cell_type": "code",
   "execution_count": null,
   "metadata": {},
   "outputs": [],
   "source": [
    "# export\n",
    "from typing import List\n",
    "\n",
    "from pyuid3.value import Value\n",
    "from pyuid3.attribute import Attribute\n",
    "# from pyuid3.data import Data   # may cause problems"
   ]
  },
  {
   "cell_type": "code",
   "execution_count": null,
   "metadata": {},
   "outputs": [],
   "source": [
    "# export\n",
    "class AttStats:\n",
    "    def __init__(self, statistics: List[Value], avg_confidence: float):\n",
    "        self.statistics = statistics\n",
    "        self.avg_confidence = avg_confidence\n",
    "        \n",
    "    @staticmethod\n",
    "    def get_statistics(att: Attribute, data: 'Data') -> 'AttStats':    # TODO: rename to get_stats \n",
    "        conf_sum = []\n",
    "        for val_name in att.get_domain():\n",
    "            conf_sum.append(Value(val_name, 0))\n",
    "        avg_conf = 0\n",
    "\n",
    "        if not data.get_instances():\n",
    "            return AttStats(conf_sum, avg_conf)\n",
    "\n",
    "        instances = data.get_instances()\n",
    "        for instance in instances:\n",
    "            r = instance.get_reading_for_attribute(att.get_name())\n",
    "            values = r.get_values()\n",
    "            for v in values:\n",
    "                if v in conf_sum:\n",
    "                    idx = conf_sum.index(v)\n",
    "                    old = conf_sum[idx]\n",
    "                    del conf_sum[idx]\n",
    "                    conf_sum.append(Value(v.get_name(), old.get_confidence() + v.get_confidence()))\n",
    "            avg_conf += r.get_most_probable().get_confidence()\n",
    "\n",
    "        size = len(data.get_instances())\n",
    "        avg_conf /= size\n",
    "\n",
    "        stats = []\n",
    "        for stat_v in conf_sum:\n",
    "            stats.append(Value(stat_v.get_name(), stat_v.get_confidence()/size))\n",
    "        return AttStats(stats, avg_conf)\n",
    "    \n",
    "    def het_statistics(self) -> List[Value]:   # TODO: rename to get_statistics\n",
    "        return self.statistics\n",
    "\n",
    "    def get_avg_confidence(self) -> float:\n",
    "        return self.avg_confidence\n",
    "\n",
    "    def get_stat_for_value(self, value_name: str) -> float:\n",
    "        for v in self.statistics:\n",
    "            if v.get_name() == value_name:\n",
    "                return v.get_confidence()\n",
    "        return 0\n",
    "\n",
    "    def get_most_probable(self) -> Value:\n",
    "        confidence = [value.get_confidence() for value in self.statistics]\n",
    "        highest_conf = max(confidence)\n",
    "        index = confidence.index(highest_conf)\n",
    "        return self.statistics[index]\n",
    "\n",
    "    def __str__(self) -> str:\n",
    "        result = '{'\n",
    "        for value in self.statistics:\n",
    "            result += str(value) + ','\n",
    "        result = result[:-1]  # delete the last coma ','\n",
    "        result += '}'\n",
    "        return result"
   ]
  },
  {
   "cell_type": "markdown",
   "metadata": {},
   "source": [
    "## Examples"
   ]
  },
  {
   "cell_type": "code",
   "execution_count": null,
   "metadata": {},
   "outputs": [
    {
     "name": "stdout",
     "output_type": "stream",
     "text": [
      "rainy[0.39]\n",
      "overcast[0.24]\n",
      "sunny[0.37]\n"
     ]
    }
   ],
   "source": [
    "import math\n",
    "from pyuid3.data import Data\n",
    "\n",
    "data = Data.parse_uarff(\"../resources/weather.nominal.uncertain.arff\")\n",
    "attribute = Attribute('outlook', {'sunny', 'rainy', 'overcast'})\n",
    "att_stats = AttStats.get_statistics(attribute, data)\n",
    "assert att_stats.get_avg_confidence() == 0.9428571428571428\n",
    "\n",
    "vals = att_stats.het_statistics()\n",
    "print(vals[0])\n",
    "print(vals[1])\n",
    "print(vals[2])"
   ]
  }
 ],
 "metadata": {
  "kernelspec": {
   "display_name": "Python 3",
   "language": "python",
   "name": "python3"
  },
  "language_info": {
   "codemirror_mode": {
    "name": "ipython",
    "version": 3
   },
   "file_extension": ".py",
   "mimetype": "text/x-python",
   "name": "python",
   "nbconvert_exporter": "python",
   "pygments_lexer": "ipython3",
   "version": "3.8.5"
  }
 },
 "nbformat": 4,
 "nbformat_minor": 5
}
