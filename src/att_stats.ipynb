{
 "cells": [
  {
   "cell_type": "code",
   "execution_count": null,
   "id": "annoying-numbers",
   "metadata": {},
   "outputs": [],
   "source": [
    "class AttStats:\n",
    "    def __init__(self, statistics: list, avg_confidence: float):\n",
    "        self.statistics = statistics\n",
    "        self.avg_confidence = avg_confidence\n",
    "        \n",
    "        "
   ]
  },
  {
   "cell_type": "code",
   "execution_count": null,
   "id": "leading-tooth",
   "metadata": {},
   "outputs": [],
   "source": []
  }
 ],
 "metadata": {
  "kernelspec": {
   "display_name": "udtree",
   "language": "python",
   "name": "udtree"
  }
 },
 "nbformat": 4,
 "nbformat_minor": 5
}
