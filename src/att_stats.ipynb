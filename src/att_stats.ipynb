{
 "cells": [
  {
   "cell_type": "code",
   "execution_count": null,
   "id": "iraqi-tourist",
   "metadata": {},
   "outputs": [],
   "source": [
    "# default_exp att_stats"
   ]
  },
  {
   "cell_type": "markdown",
   "id": "mysterious-billy",
   "metadata": {},
   "source": [
    "# att_stats\n",
    "\n",
    "> Attribute statistics"
   ]
  },
  {
   "cell_type": "code",
   "execution_count": null,
   "id": "executive-search",
   "metadata": {},
   "outputs": [],
   "source": [
    "# export\n",
    "from typing import List\n",
    "\n",
    "from uid3.value import Value\n",
    "from uid3.attribute import Attribute\n",
    "# from uid3.data import Data"
   ]
  },
  {
   "cell_type": "code",
   "execution_count": null,
   "id": "annoying-numbers",
   "metadata": {},
   "outputs": [],
   "source": [
    "# export\n",
    "class AttStats:\n",
    "    def __init__(self, statistics: List[Value], avg_confidence: float):\n",
    "        self.statistics = statistics\n",
    "        self.avg_confidence = avg_confidence\n",
    "\n",
    "    @staticmethod\n",
    "    def get_statistics(att: Attribute, data: 'Data') -> 'AttStats':\n",
    "        sum = []\n",
    "        for val_name in att.get_domain():\n",
    "            sum.append(Value(val_name, 0))\n",
    "        avg_conf = 0\n",
    "\n",
    "        if not data.get_instances():\n",
    "            return AttStats(sum, avg_conf)\n",
    "\n",
    "        instances = data.get_instances()\n",
    "        for instance in instances:\n",
    "            r = instance.get_reading_for_attribute(att.get_name())\n",
    "            values = r.get_values()\n",
    "            for v in values:\n",
    "                idx = sum.index(v)\n",
    "                old = sum[idx]\n",
    "                del sum[idx]\n",
    "\n",
    "                sum.append(Value(v.get_name(), old.get_confidence() + v.get_confidence()))\n",
    "            avg_conf += r.get_most_probable().get_confidence()\n",
    "\n",
    "        size = len(data.get_instances())\n",
    "        avg_conf /= size\n",
    "\n",
    "        stats = []\n",
    "        for stat_v in sum:\n",
    "            stats.append(Value(stat_v.get_name(), stat_v.get_confidence()/size))\n",
    "        return AttStats(stats, avg_conf)\n",
    "\n",
    "    def get_avg_confidence(self) -> float:\n",
    "        return self.avg_confidence\n",
    "\n",
    "    def __get_statistics(self) -> List[Value]:  # TODO figure out how to overload this\n",
    "        return self.statistics\n",
    "\n",
    "    def get_stats_for_value(self, value_name: str) -> float:\n",
    "        for v in self.statistics:\n",
    "            if v.get_name() == value_name:\n",
    "                return v.get_confidence()\n",
    "        return 0\n",
    "\n",
    "    def get_most_probable(self) -> Value:\n",
    "        confidence = [value.get_confidence() for value in self.statistics]\n",
    "        highest_conf = max(confidence)\n",
    "        index = confidence.index(highest_conf)\n",
    "        return self.statistics[index]\n",
    "\n",
    "    def __str__(self) -> str:\n",
    "        result = '{'\n",
    "        for value in self.statistics:\n",
    "            result += str(value) + ','\n",
    "        result = result[:-1]  # delete the last coma ','\n",
    "        result += '}'\n",
    "        return result\n",
    "        return result"
   ]
  },
  {
   "cell_type": "code",
   "execution_count": null,
   "id": "leading-tooth",
   "metadata": {},
   "outputs": [],
   "source": []
  }
 ],
 "metadata": {
  "kernelspec": {
   "display_name": "Python 3",
   "language": "python",
   "name": "python3"
  }
 },
 "nbformat": 4,
 "nbformat_minor": 5
}
