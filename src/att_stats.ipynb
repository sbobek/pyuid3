{
 "cells": [
  {
   "cell_type": "code",
   "execution_count": null,
   "id": "smooth-ethiopia",
   "metadata": {},
   "outputs": [],
   "source": [
    "# default_exp att_stats"
   ]
  },
  {
   "cell_type": "markdown",
   "id": "constant-textbook",
   "metadata": {},
   "source": [
    "# AttStats\n",
    "\n",
    "> Class representing attribute statistics.\n"
   ]
  },
  {
   "cell_type": "markdown",
   "id": "constitutional-future",
   "metadata": {},
   "source": [
    "Attribute statistics consist of the average confidence for the attribute and the average confidence for each of it's values.\n",
    "\n",
    "**Example:**\n",
    "\n",
    "\"@attribute outlook {sunny, overcast, rainy}\n",
    "<br> @attribute temperature {hot, mild, cool}\n",
    "<br>\n",
    "<br> @data\n",
    "<br> sunny[0.5];rainy[0.3];overcast[0.2],hot\n",
    "<br> sunny[0.1];rainy[0.4];overcast[0.5],mild\n",
    "<br> sunny[0.7];rainy[0.1];overcast[0.2],cool\"\n",
    "\n",
    "Statistics for \"outlook\" attribute are as follows:\n",
    " * average confidence: ( max(0.5, 0.3, 0.2) + max(0.1, 0.4, 0.5) + max(0.7, 0.1, 0.2) ) / 3 = 0.57\n",
    " * statistics: [(0.5 + 0.1 + 0.7) / 3, (0.3 + 0.4 + 0.1) / 3, (0.2 + 0.5 + 0.2) / 3] = [0.43, 0.27, 0.3]"
   ]
  },
  {
   "cell_type": "code",
   "execution_count": null,
   "id": "blocked-toolbox",
   "metadata": {},
   "outputs": [],
   "source": [
    "# export\n",
    "from typing import List\n",
    "\n",
    "from pyuid3.value import Value\n",
    "from pyuid3.attribute import Attribute\n",
    "# from pyuid3.data import Data   # may cause problems"
   ]
  },
  {
   "cell_type": "code",
   "execution_count": null,
   "id": "serious-wages",
   "metadata": {},
   "outputs": [],
   "source": [
    "# export\n",
    "class AttStats:\n",
    "    def __init__(self, statistics: List[Value], avg_confidence: float):\n",
    "        self.statistics = statistics\n",
    "        self.avg_confidence = avg_confidence\n",
    "        \n",
    "    @staticmethod\n",
    "    def get_statistics(att: Attribute, data: 'Data') -> 'AttStats':    # TODO: rename to get_stats \n",
    "        sum = []\n",
    "        for val_name in att.get_domain():\n",
    "            sum.append(Value(val_name, 0))\n",
    "        avg_conf = 0\n",
    "\n",
    "        if not data.get_instances():\n",
    "            return AttStats(sum, avg_conf)\n",
    "\n",
    "        instances = data.get_instances()\n",
    "        for instance in instances:\n",
    "            r = instance.get_reading_for_attribute(att.get_name())\n",
    "            values = r.get_values()\n",
    "            for v in values:\n",
    "                idx = sum.index(v)\n",
    "                old = sum[idx]\n",
    "                del sum[idx]\n",
    "\n",
    "                sum.append(Value(v.get_name(), old.get_confidence() + v.get_confidence()))\n",
    "            avg_conf += r.get_most_probable().get_confidence()\n",
    "\n",
    "        size = len(data.get_instances())\n",
    "        avg_conf /= size\n",
    "\n",
    "        stats = []\n",
    "        for stat_v in sum:\n",
    "            stats.append(Value(stat_v.get_name(), stat_v.get_confidence()/size))\n",
    "        return AttStats(stats, avg_conf)\n",
    "    \n",
    "    def het_statistics(self) -> List[Value]:   # TODO: rename to get_statistics\n",
    "        return self.statistics\n",
    "\n",
    "    def get_avg_confidence(self) -> float:\n",
    "        return self.avg_confidence\n",
    "\n",
    "    def get_stat_for_value(self, value_name: str) -> float:\n",
    "        for v in self.statistics:\n",
    "            if v.get_name() == value_name:\n",
    "                return v.get_confidence()\n",
    "        return 0\n",
    "\n",
    "    def get_most_probable(self) -> Value:\n",
    "        confidence = [value.get_confidence() for value in self.statistics]\n",
    "        highest_conf = max(confidence)\n",
    "        index = confidence.index(highest_conf)\n",
    "        return self.statistics[index]\n",
    "\n",
    "    def __str__(self) -> str:\n",
    "        result = '{'\n",
    "        for value in self.statistics:\n",
    "            result += str(value) + ','\n",
    "        result = result[:-1]  # delete the last coma ','\n",
    "        result += '}'\n",
    "        return result"
   ]
  },
  {
   "cell_type": "markdown",
   "id": "outside-equivalent",
   "metadata": {},
   "source": [
    "## Tests"
   ]
  },
  {
   "cell_type": "code",
   "execution_count": null,
   "id": "obvious-advertiser",
   "metadata": {},
   "outputs": [],
   "source": [
    "import math\n",
    "from pyuid3.data import Data\n",
    "\n",
    "data = Data.parse_uarff(\"../resources/weather.nominal.uncertain.arff\")\n",
    "attribute = Attribute('outlook', {'sunny', 'rainy', 'overcast'})\n",
    "att_stats = AttStats.get_statistics(attribute, data)\n",
    "assert att_stats.get_avg_confidence() == 0.9428571428571428\n",
    "\n",
    "vals = att_stats.het_statistics()\n",
    "assert math.isclose(vals[0].get_confidence(), 0.38571428571428573)\n",
    "assert math.isclose(vals[1].get_confidence(), 0.37142857142857144)\n",
    "assert math.isclose(vals[2].get_confidence(), 0.24285714285714285)"
   ]
  }
 ],
 "metadata": {
  "kernelspec": {
   "display_name": "Python 3",
   "language": "python",
   "name": "python3"
  }
 },
 "nbformat": 4,
 "nbformat_minor": 5
}
