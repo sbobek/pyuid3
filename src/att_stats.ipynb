{
 "cells": [
  {
   "cell_type": "code",
   "execution_count": null,
   "id": "korean-bailey",
   "metadata": {},
   "outputs": [],
   "source": [
    "# default_exp att_stats"
   ]
  },
  {
   "cell_type": "markdown",
   "id": "retained-mason",
   "metadata": {},
   "source": [
    "# att_stats\n",
    "\n",
    "> Attribute statistics"
   ]
  },
  {
   "cell_type": "code",
   "execution_count": null,
   "id": "civilian-spokesman",
   "metadata": {},
   "outputs": [],
   "source": [
    "# export\n",
    "class AttStats:\n",
    "    def __init__(self, statistics: list, avg_confidence: float):\n",
    "        self.statistics = statistics\n",
    "        self.avg_confidence = avg_confidence\n",
    "        \n",
    "        "
   ]
  }
 ],
 "metadata": {
  "kernelspec": {
   "display_name": "Python 3",
   "language": "python",
   "name": "python3"
  }
 },
 "nbformat": 4,
 "nbformat_minor": 5
}
