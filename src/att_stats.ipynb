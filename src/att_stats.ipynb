{
 "cells": [
  {
   "cell_type": "code",
   "execution_count": null,
   "metadata": {},
   "outputs": [],
   "source": [
    "# default_exp att_stats"
   ]
  },
  {
   "cell_type": "markdown",
   "metadata": {},
   "source": [
    "# AttStats\n",
    "\n",
    "> Class representing attribute statistics.\n"
   ]
  },
  {
   "cell_type": "markdown",
   "metadata": {},
   "source": [
    "Attribute statistics consist of the average confidence for the attribute and the average confidence for each of it's values.\n",
    "\n",
    "**Example:**\n",
    "\n",
    "\"@attribute outlook {sunny, overcast, rainy}\n",
    "<br> @attribute temperature {hot, mild, cool}\n",
    "<br>\n",
    "<br> @data\n",
    "<br> sunny[0.5];rainy[0.3];overcast[0.2],hot\n",
    "<br> sunny[0.1];rainy[0.4];overcast[0.5],mild\n",
    "<br> sunny[0.7];rainy[0.1];overcast[0.2],cool\"\n",
    "\n",
    "Statistics for \"outlook\" attribute are as follows:\n",
    " * average confidence: ( max(0.5, 0.3, 0.2) + max(0.1, 0.4, 0.5) + max(0.7, 0.1, 0.2) ) / 3 = 0.57\n",
    " * statistics: [(0.5 + 0.1 + 0.7) / 3, (0.3 + 0.4 + 0.1) / 3, (0.2 + 0.5 + 0.2) / 3] = [0.43, 0.27, 0.3]"
   ]
  },
  {
   "cell_type": "code",
   "execution_count": null,
   "metadata": {},
   "outputs": [],
   "source": [
    "# export\n",
    "from typing import List\n",
    "\n",
    "from pyuid3.value import Value\n",
    "from pyuid3.attribute import Attribute\n",
    "# from pyuid3.data import Data   # may cause problems"
   ]
  },
  {
   "cell_type": "code",
   "execution_count": null,
   "metadata": {},
   "outputs": [],
   "source": [
    "# export\n",
    "class AttStats:\n",
    "    def __init__(self, statistics: Dict[str,Value], avg_confidence: float):\n",
    "        self.statistics = statistics\n",
    "        self.avg_confidence = avg_confidence\n",
    "\n",
    "    @staticmethod\n",
    "    def calculate_statistics(att: Attribute, data: 'Data') -> 'AttStats':    # TODO: rename to get_stats\n",
    "        conf_sum = {}\n",
    "        avg_conf = 0\n",
    "\n",
    "        if not data.get_instances():\n",
    "            return AttStats(conf_sum, avg_conf)\n",
    "\n",
    "        instances = data.get_instances()\n",
    "        att_name=att.get_name()\n",
    "        for instance in instances:\n",
    "            r = instance.get_reading_for_attribute(att_name)\n",
    "            values = r.get_values()\n",
    "            for v in values:\n",
    "                if v.get_name() in conf_sum.keys():\n",
    "                    old = conf_sum[v.get_name()]\n",
    "                    conf_sum[v.get_name()] = Value(v.get_name(), old.get_confidence() + v.get_confidence())\n",
    "                else:\n",
    "                    conf_sum[v.get_name()] = v#Value(v.get_name(), old.get_confidence() + v.get_confidence())\n",
    "            \n",
    "            avg_conf += r.get_most_probable().get_confidence()\n",
    "\n",
    "        size = len(data)\n",
    "        avg_conf /= size\n",
    "        stats = {}\n",
    "        for stat_v in conf_sum.values():\n",
    "            stats[stat_v.get_name()]=(Value(stat_v.get_name(), stat_v.get_confidence()/size))\n",
    "        return AttStats(stats, avg_conf)\n",
    "\n",
    "\n",
    "\n",
    "\n",
    "    def get_statistics(self) -> List[Value]:   # TODO: rename to get_statistics\n",
    "        return list(self.statistics.values())\n",
    "\n",
    "    def get_avg_confidence(self) -> float:\n",
    "        return self.avg_confidence\n",
    "\n",
    "    def get_stat_for_value(self, value_name: str) -> float:\n",
    "        if value_name in self.statistics.keys():\n",
    "            return self.statistics[value_name].get_confidence()\n",
    "        else:\n",
    "            return 0\n",
    "\n",
    "    def get_most_probable(self) -> Value:\n",
    "        statistics = list(self.statistics.values())\n",
    "        confidence = [value.get_confidence() for value in statistics]\n",
    "        highest_conf = max(confidence)\n",
    "        index = confidence.index(highest_conf)\n",
    "        return statistics[index]\n",
    "\n",
    "    def __str__(self) -> str:\n",
    "        result = '{'\n",
    "        for value in self.statistics.values():\n",
    "            result += str(value) + ','\n",
    "        result = result[:-1]  # delete the last coma ','\n",
    "        result += '}'\n",
    "        return result\n"
   ]
  },
  {
   "cell_type": "markdown",
   "metadata": {},
   "source": [
    "## Examples"
   ]
  },
  {
   "cell_type": "code",
   "execution_count": null,
   "metadata": {},
   "outputs": [
    {
     "name": "stdout",
     "output_type": "stream",
     "text": [
      "rainy[0.39]\n",
      "overcast[0.24]\n",
      "sunny[0.37]\n"
     ]
    }
   ],
   "source": [
    "import math\n",
    "from pyuid3.data import Data\n",
    "\n",
    "data = Data.parse_uarff(\"../resources/weather.nominal.uncertain.arff\")\n",
    "attribute = Attribute('outlook', {'sunny', 'rainy', 'overcast'})\n",
    "att_stats = AttStats.get_statistics(attribute, data)\n",
    "assert att_stats.get_avg_confidence() == 0.9428571428571428\n",
    "\n",
    "vals = att_stats.het_statistics()\n",
    "print(vals[0])\n",
    "print(vals[1])\n",
    "print(vals[2])"
   ]
  }
 ],
 "metadata": {
  "kernelspec": {
   "display_name": "Python 3",
   "language": "python",
   "name": "python3"
  },
  "language_info": {
   "codemirror_mode": {
    "name": "ipython",
    "version": 3
   },
   "file_extension": ".py",
   "mimetype": "text/x-python",
   "name": "python",
   "nbconvert_exporter": "python",
   "pygments_lexer": "ipython3",
   "version": "3.8.5"
  }
 },
 "nbformat": 4,
 "nbformat_minor": 5
}
