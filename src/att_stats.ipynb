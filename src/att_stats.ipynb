{
 "cells": [
  {
   "cell_type": "code",
   "execution_count": null,
   "id": "welcome-municipality",
   "metadata": {},
   "outputs": [],
   "source": [
    "# default_exp att_stats"
   ]
  },
  {
   "cell_type": "markdown",
   "id": "foreign-cholesterol",
   "metadata": {},
   "source": [
    "# att_stats\n",
    "\n",
    "> Attribute statistics"
   ]
  },
  {
   "cell_type": "code",
   "execution_count": null,
   "id": "driven-hacker",
   "metadata": {},
   "outputs": [],
   "source": [
    "# export\n",
    "class AttStats:\n",
    "    def __init__(self, statistics: list, avg_confidence: float):\n",
    "        self.statistics = statistics\n",
    "        self.avg_confidence = avg_confidence\n",
    "        \n",
    "        "
   ]
  },
  {
   "cell_type": "code",
   "execution_count": null,
   "id": "nuclear-portable",
   "metadata": {},
   "outputs": [],
   "source": []
  }
 ],
 "metadata": {
  "kernelspec": {
   "display_name": "Python 3",
   "language": "python",
   "name": "python3"
  }
 },
 "nbformat": 4,
 "nbformat_minor": 5
}
