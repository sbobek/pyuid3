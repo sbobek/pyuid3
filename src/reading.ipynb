{
 "cells": [
  {
   "cell_type": "code",
   "execution_count": null,
   "id": "lyric-membrane",
   "metadata": {},
   "outputs": [],
   "source": [
    "from ipynb.fs.full.attribute import Attribute"
   ]
  },
  {
   "cell_type": "code",
   "execution_count": null,
   "id": "essential-march",
   "metadata": {},
   "outputs": [],
   "source": [
    "class Reading:\n",
    "    def __init__(self, base_att: Attribute, values: list):\n",
    "        self.base_att = base_att\n",
    "        self.values = values \n",
    "        \n",
    "    def get_baase_att(self) -> Attribute:\n",
    "        return self.base_att\n",
    "    \n",
    "    def get_Values(self) -> list:\n",
    "        return self.values\n",
    "        "
   ]
  },
  {
   "cell_type": "code",
   "execution_count": null,
   "id": "primary-statement",
   "metadata": {},
   "outputs": [],
   "source": []
  }
 ],
 "metadata": {
  "kernelspec": {
   "display_name": "udtree",
   "language": "python",
   "name": "udtree"
  }
 },
 "nbformat": 4,
 "nbformat_minor": 5
}
