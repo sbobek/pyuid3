{
 "cells": [
  {
   "cell_type": "code",
   "execution_count": null,
   "id": "usual-simulation",
   "metadata": {},
   "outputs": [],
   "source": [
    "# default_exp reading"
   ]
  },
  {
   "cell_type": "markdown",
   "id": "signed-shadow",
   "metadata": {},
   "source": [
    "# reading\n",
    "> Reading."
   ]
  },
  {
   "cell_type": "code",
   "execution_count": null,
   "id": "eleven-organ",
   "metadata": {},
   "outputs": [],
   "source": [
    "# export\n",
    "from uid3.attribute import Attribute"
   ]
  },
  {
   "cell_type": "code",
   "execution_count": null,
   "id": "expected-galaxy",
   "metadata": {},
   "outputs": [],
   "source": [
    "# export\n",
    "class Reading:\n",
    "    def __init__(self, base_att: Attribute, values: list):\n",
    "        self.base_att = base_att\n",
    "        self.values = values \n",
    "        \n",
    "    def get_baase_att(self) -> Attribute:\n",
    "        return self.base_att\n",
    "    \n",
    "    def get_Values(self) -> list:\n",
    "        return self.values\n",
    "        "
   ]
  }
 ],
 "metadata": {
  "kernelspec": {
   "display_name": "Python 3",
   "language": "python",
   "name": "python3"
  }
 },
 "nbformat": 4,
 "nbformat_minor": 5
}
