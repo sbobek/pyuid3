{
 "cells": [
  {
   "cell_type": "code",
   "execution_count": null,
   "id": "vocational-attention",
   "metadata": {},
   "outputs": [],
   "source": [
    "# default_exp to_hml_demo"
   ]
  },
  {
   "cell_type": "markdown",
   "id": "handy-crack",
   "metadata": {},
   "source": [
    "# to_hml_demo\n",
    "> To HML demo."
   ]
  },
  {
   "cell_type": "code",
   "execution_count": null,
   "id": "invisible-belgium",
   "metadata": {},
   "outputs": [],
   "source": [
    "# export\n",
    "class ToHMLDemo:\n",
    "     def __init__(self):\n",
    "        pass"
   ]
  },
  {
   "cell_type": "code",
   "execution_count": null,
   "id": "choice-valve",
   "metadata": {},
   "outputs": [],
   "source": [
    "# hide\n",
    "def main():\n",
    "    pass"
   ]
  },
  {
   "cell_type": "code",
   "execution_count": null,
   "id": "fiscal-incentive",
   "metadata": {},
   "outputs": [],
   "source": [
    "# hide\n",
    "if __name__ == \"__main__\":\n",
    "    main()"
   ]
  }
 ],
 "metadata": {
  "kernelspec": {
   "display_name": "Python 3",
   "language": "python",
   "name": "python3"
  }
 },
 "nbformat": 4,
 "nbformat_minor": 5
}
