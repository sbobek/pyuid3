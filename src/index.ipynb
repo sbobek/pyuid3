{
 "cells": [
  {
   "cell_type": "code",
   "execution_count": null,
   "metadata": {},
   "outputs": [],
   "source": [
    "#hide\n",
    "from pyuid3.uid3 import *"
   ]
  },
  {
   "cell_type": "markdown",
   "metadata": {},
   "source": [
    "# uID3 w Pythonie\n",
    "> Uncertain Decision Tree Classifier"
   ]
  },
  {
   "cell_type": "markdown",
   "metadata": {},
   "source": [
    "Celem prac jest implementacja mechanizmu budowania drzew decyzyjnych z danych niepewnych.\n",
    "  * Prace bazowac beda na artykule: [Uncertain Decision Tree Classifier for Mobile Context-Aware Computing](https://link.springer.com/chapter/10.1007/978-3-319-91262-2_25)\n",
    "  * Prace bazowac beda na kodzie: [UID3](https://github.com/sbobek/udt)\n",
    "  * Prace powinny implementowac klasyfikator zgodnie z konwencja [sklearn](https://scikit-learn.org/stable/modules/generated/sklearn.base.BaseEstimator.html)\n",
    "  * Prace maja finalnie potwierdzic rownowaznosc implementacji Java i Python (z wylaczeniem sytuacji gdzie wersja Pythonpoprawialaby bledne dzialanie wersji Java)\n",
    "  * Do implementacji polecam wykorzystac framework [nbdev](https://nbdev.fast.ai/)\n",
    "  * Implementacja powinna umozliwiac rysowanie drzew z wykorzystaniem graphviz:\n",
    "  ![](./images/tree.png)\n",
    "  * Implementacja powinna umozliwiac eksport drzew do formatu HMR+, ktory zaczytywany jest przez webowy edytor [HWED](https://heartdroid.re/hwed/)\n",
    "  ![](./images/hmrp.png)\n",
    "  - Kod powinien byc napisany i udokumentowany zgodnie z [PEP8](https://www.python.org/dev/peps/pep-0008/)\n",
    "  \n"
   ]
  },
  {
   "cell_type": "markdown",
   "metadata": {},
   "source": [
    "## Install"
   ]
  },
  {
   "cell_type": "markdown",
   "metadata": {},
   "source": [
    "`pip install uid3`"
   ]
  },
  {
   "cell_type": "markdown",
   "metadata": {},
   "source": [
    "## How to use"
   ]
  },
  {
   "cell_type": "markdown",
   "metadata": {},
   "source": [
    "TODO -> code examples"
   ]
  },
  {
   "cell_type": "code",
   "execution_count": null,
   "metadata": {},
   "outputs": [
    {
     "data": {
      "text/plain": [
       "2"
      ]
     },
     "execution_count": null,
     "metadata": {},
     "output_type": "execute_result"
    }
   ],
   "source": [
    "1+1"
   ]
  }
 ],
 "metadata": {
  "kernelspec": {
   "display_name": "Python 3",
   "language": "python",
   "name": "python3"
  }
 },
 "nbformat": 4,
 "nbformat_minor": 4
}
