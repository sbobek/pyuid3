{
 "cells": [
  {
   "cell_type": "code",
   "execution_count": null,
   "id": "6356e82e",
   "metadata": {},
   "outputs": [],
   "source": [
    "# default_exp attribute"
   ]
  },
  {
   "cell_type": "markdown",
   "id": "61d0460d",
   "metadata": {},
   "source": [
    "# Attribute\n",
    "\n",
    "> Class representing a single attribute.\n"
   ]
  },
  {
   "cell_type": "markdown",
   "id": "0a03781b",
   "metadata": {},
   "source": [
    "Attribute consists of it's name and domain. It can be nominal or numeric.\n",
    "\n",
    "**Example**:\n",
    "\n",
    "\"outlook {sunny, overcast, rainy}\"\n",
    "\n",
    "Attribute of nominal type named \"outlook\", with three possible values: \"sunny\", \"overcast\", \"rainy\"."
   ]
  },
  {
   "cell_type": "code",
   "execution_count": null,
   "id": "548901d8",
   "metadata": {},
   "outputs": [],
   "source": [
    "# export\n",
    "from typing import Set"
   ]
  },
  {
   "cell_type": "code",
   "execution_count": null,
   "id": "cfbaf5cf",
   "metadata": {},
   "outputs": [],
   "source": [
    "# export\n",
    "class Attribute:\n",
    "    TYPE_NOMINAL = 1\n",
    "    TYPE_NUMERICAL = 2\n",
    "\n",
    "    def __init__(self, name: str = None, domain: Set[str] = None, type: int = None):\n",
    "        self.name = name\n",
    "        self.domain = domain\n",
    "        self.type = type\n",
    "        self.value_to_split_on = ''\n",
    "        self.info_gain = 0.0\n",
    "\n",
    "    def add_value(self, value: str):\n",
    "        self.domain.add(value)\n",
    "\n",
    "    def get_name(self) -> str:\n",
    "        return self.name\n",
    "\n",
    "    def set_domain(self, domain: Set[str]):\n",
    "        self.domain = domain\n",
    "\n",
    "    def get_type(self) -> int:\n",
    "        return self.type\n",
    "\n",
    "    def get_domain(self) -> Set[str]:\n",
    "        return self.domain\n",
    "\n",
    "    def get_splittable_domain(self) -> Set[str]:\n",
    "        if self.get_type() == Attribute.TYPE_NOMINAL:\n",
    "            return self.domain\n",
    "        elif self.get_type() == Attribute.TYPE_NUMERICAL:\n",
    "            splitting_domain = set()\n",
    "            splitting_domain.add(self.__get_value_to_split_on())\n",
    "            return splitting_domain\n",
    "        return set()\n",
    "\n",
    "    def __get_value_to_split_on(self) -> str:\n",
    "        return self.value_to_split_on\n",
    "\n",
    "    def to_arff(self) -> str:\n",
    "        result = '@attribute ' + self.name + ' {'\n",
    "        for name in self.domain:\n",
    "            result += name + ','\n",
    "        result = result[:-1]  # delete the last coma ','\n",
    "        result += '}'\n",
    "        return result\n",
    "\n",
    "    def __str__(self) -> str:\n",
    "        return self.get_name()\n",
    "\n",
    "    def __eq__(self, obj: ('Attribute', str)) -> bool:\n",
    "        name = ''\n",
    "        if isinstance(obj, Attribute):\n",
    "            name = obj.get_name()\n",
    "        elif isinstance(obj, str):\n",
    "            name = obj\n",
    "        return self.get_name() == name\n",
    "\n",
    "    def __hash__(self) -> int:\n",
    "        return hash(self.get_name())\n",
    "\n",
    "    def set_value_to_split_on(self, value: str):\n",
    "        self.value_to_split_on = value\n",
    "\n",
    "    def set_importance_gain(self, info_gain: float):\n",
    "        self.info_gain = info_gain\n",
    "\n",
    "    def get_importance_gain(self) -> float:\n",
    "        return self.info_gain\n"
   ]
  },
  {
   "cell_type": "markdown",
   "id": "3decb5c3",
   "metadata": {},
   "source": [
    "## Tests"
   ]
  },
  {
   "cell_type": "code",
   "execution_count": null,
   "id": "ce20d1c5",
   "metadata": {},
   "outputs": [],
   "source": [
    "attribute = Attribute('outlook', {'sunny', 'rainy'}, Attribute.TYPE_NOMINAL)\n",
    "attribute.add_value('overcast')\n",
    "assert str(attribute) == 'outlook'\n",
    "assert attribute.get_domain() == {'rainy', 'overcast', 'sunny'}"
   ]
  },
  {
   "cell_type": "code",
   "execution_count": null,
   "id": "716ac706",
   "metadata": {},
   "outputs": [],
   "source": [
    "attribute2 = Attribute('outlook', {'cloudy'})\n",
    "assert attribute == attribute2\n",
    "assert attribute == 'outlook'"
   ]
  },
  {
   "cell_type": "code",
   "execution_count": null,
   "id": "2da074df",
   "metadata": {},
   "outputs": [],
   "source": [
    "attribute3 = Attribute('humidity', {'high, normal, low'})\n",
    "assert attribute != attribute3\n",
    "assert attribute != 'humidity'"
   ]
  }
 ],
 "metadata": {
  "kernelspec": {
   "display_name": "Python 3 (ipykernel)",
   "language": "python",
   "name": "python3"
  },
  "language_info": {
   "codemirror_mode": {
    "name": "ipython",
    "version": 3
   },
   "file_extension": ".py",
   "mimetype": "text/x-python",
   "name": "python",
   "nbconvert_exporter": "python",
   "pygments_lexer": "ipython3",
   "version": "3.8.13"
  }
 },
 "nbformat": 4,
 "nbformat_minor": 5
}
