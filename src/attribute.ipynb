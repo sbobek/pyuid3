{
 "cells": [
  {
   "cell_type": "code",
   "execution_count": null,
   "id": "placed-grill",
   "metadata": {},
   "outputs": [],
   "source": [
    "# default_exp attribute"
   ]
  },
  {
   "cell_type": "markdown",
   "id": "surface-survey",
   "metadata": {},
   "source": [
    "# attribute\n",
    "\n",
    "> Attribute."
   ]
  },
  {
   "cell_type": "code",
   "execution_count": null,
   "id": "sharp-tours",
   "metadata": {},
   "outputs": [],
   "source": [
    "# export\n",
    "class Attribute:\n",
    "    TYPE_NOMINAL = 1\n",
    "    TYPE_NUMERICAL = 2\n",
    "    \n",
    "    def __init__(self, name: str, domain: set, type_of_att=TYPE_NOMINAL):  \n",
    "        this.name = name\n",
    "        this.domain  = domain\n",
    "        this.type = type_of_att\n",
    "        "
   ]
  },
  {
   "cell_type": "code",
   "execution_count": null,
   "id": "afraid-portuguese",
   "metadata": {},
   "outputs": [],
   "source": []
  }
 ],
 "metadata": {
  "kernelspec": {
   "display_name": "Python 3",
   "language": "python",
   "name": "python3"
  }
 },
 "nbformat": 4,
 "nbformat_minor": 5
}
