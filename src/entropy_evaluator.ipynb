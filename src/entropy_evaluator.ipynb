{
 "cells": [
  {
   "cell_type": "code",
   "execution_count": null,
   "id": "floral-cannon",
   "metadata": {},
   "outputs": [],
   "source": [
    "# default_exp entropy_evaluator"
   ]
  },
  {
   "cell_type": "markdown",
   "id": "coral-inspector",
   "metadata": {},
   "source": [
    "# EntropyEvaluator\n",
    "> Interface for class that calculates entropy."
   ]
  },
  {
   "cell_type": "code",
   "execution_count": null,
   "id": "blocked-choir",
   "metadata": {},
   "outputs": [],
   "source": [
    "# export\n",
    "from abc import ABCMeta, abstractmethod\n",
    "from pyuid3.data import Data"
   ]
  },
  {
   "cell_type": "code",
   "execution_count": null,
   "id": "about-reaction",
   "metadata": {},
   "outputs": [],
   "source": [
    "# export\n",
    "class EntropyEvaluator:\n",
    "    __metaclass__ = ABCMeta\n",
    "\n",
    "    @abstractmethod\n",
    "    def calculate_entropy(self, data: Data) -> float:\n",
    "        raise NotImplementedError\n",
    "        \n",
    "    @abstractmethod\n",
    "    def calculate_raw_entropy(self, labels: list, base:int = 2) -> float:\n",
    "        raise NotImplementedError"
   ]
  }
 ],
 "metadata": {
  "kernelspec": {
   "display_name": "Python 3 (ipykernel)",
   "language": "python",
   "name": "python3"
  },
  "language_info": {
   "codemirror_mode": {
    "name": "ipython",
    "version": 3
   },
   "file_extension": ".py",
   "mimetype": "text/x-python",
   "name": "python",
   "nbconvert_exporter": "python",
   "pygments_lexer": "ipython3",
   "version": "3.8.13"
  }
 },
 "nbformat": 4,
 "nbformat_minor": 5
}
