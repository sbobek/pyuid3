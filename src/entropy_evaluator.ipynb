{
 "cells": [
  {
   "cell_type": "code",
   "execution_count": null,
   "id": "floral-cannon",
   "metadata": {},
   "outputs": [],
   "source": [
    "# default_exp entropy_evaluator"
   ]
  },
  {
   "cell_type": "markdown",
   "id": "coral-inspector",
   "metadata": {},
   "source": [
    "# EntropyEvaluator\n",
    "> Interface for class that calculates entropy."
   ]
  },
  {
   "cell_type": "code",
   "execution_count": null,
   "id": "blocked-choir",
   "metadata": {},
   "outputs": [],
   "source": [
    "# export\n",
    "from abc import ABCMeta, abstractmethod\n",
    "from .data import Data\n",
    "import math\n",
    "import numpy as np\n",
    "from scipy.stats import entropy"
   ]
  },
  {
   "cell_type": "code",
   "execution_count": null,
   "id": "about-reaction",
   "metadata": {},
   "outputs": [],
   "source": [
    "# export\n",
    "class EntropyEvaluator:\n",
    "    __metaclass__ = ABCMeta\n",
    "\n",
    "    @abstractmethod\n",
    "    def calculate_entropy(self, data: Data) -> float:\n",
    "        raise NotImplementedError\n",
    "        \n",
    "    @abstractmethod\n",
    "    def calculate_raw_entropy(self, labels: list, base:int = 2) -> float:\n",
    "        raise NotImplementedError"
   ]
  },
  {
   "cell_type": "code",
   "execution_count": null,
   "id": "3cf6ac7c-8dec-4ffe-a362-3a743ffac1fa",
   "metadata": {},
   "outputs": [],
   "source": [
    "# export\n",
    "class UncertainEntropyEvaluator():\n",
    "\n",
    "    def calculate_entropy(self, data: Data) -> float:\n",
    "        class_att = data.get_attributes()[-1]\n",
    "        probs = data.calculate_statistics(class_att)\n",
    "        entropy = sum(map(lambda v: -v.get_confidence() * math.log2(v.get_confidence())  if v.get_confidence()!=0 else 0, probs.get_statistics()))\n",
    "        return entropy\n",
    "\n",
    "    def calculate_raw_entropy(self, labels: list,base: int = 2) -> float:\n",
    "        value,counts = np.unique(labels, return_counts=True)\n",
    "        return entropy(counts, base=base)"
   ]
  },
  {
   "cell_type": "code",
   "execution_count": null,
   "id": "27b87de3-fbec-4d44-8f38-574e6ca28455",
   "metadata": {},
   "outputs": [],
   "source": [
    "#export\n",
    "class UncertainGiniEvaluator(EntropyEvaluator):\n",
    "    def calculate_entropy(self, data: Data) -> float:\n",
    "        class_att = data.get_attributes()[-1]\n",
    "        probs = data.calculate_statistics(class_att)\n",
    "        gini = 1-sum(map(lambda v: v.get_confidence()**2  if v.get_confidence()!=0 else 0, probs.get_statistics()))\n",
    "        return gini\n",
    "    \n",
    "    def calculate_raw_entropy(self, labels: list,base: int = 2) -> float:\n",
    "        value,counts = np.unique(labels, return_counts=True)\n",
    "        gini = 1-sum([(c/len(labels))**2 for c in counts])\n",
    "        return gini\n",
    "    "
   ]
  },
  {
   "cell_type": "code",
   "execution_count": null,
   "id": "c247ec24-2acc-4a3e-9f00-b506ceead0dd",
   "metadata": {},
   "outputs": [],
   "source": [
    "# export\n",
    "class UncertainSqrtGiniEvaluator(EntropyEvaluator):\n",
    "    def calculate_entropy(self, data: Data) -> float:\n",
    "        class_att = data.get_attributes()[-1]\n",
    "        probs = data.calculate_statistics(class_att)\n",
    "        gini = 1-sum(map(lambda v: v.get_confidence()**2  if v.get_confidence()!=0 else 0, probs.get_statistics()))\n",
    "        return np.sqrt(gini)\n",
    "    \n",
    "    def calculate_raw_entropy(self, labels: list,base: int = 2) -> float:\n",
    "        value,counts = np.unique(labels, return_counts=True)\n",
    "        gini = 1-sum([(c/len(labels))**2 for c in counts])\n",
    "        return np.sqrt(gini)"
   ]
  }
 ],
 "metadata": {
  "kernelspec": {
   "display_name": "Python 3 (ipykernel)",
   "language": "python",
   "name": "python3"
  },
  "language_info": {
   "codemirror_mode": {
    "name": "ipython",
    "version": 3
   },
   "file_extension": ".py",
   "mimetype": "text/x-python",
   "name": "python",
   "nbconvert_exporter": "python",
   "pygments_lexer": "ipython3",
   "version": "3.8.13"
  }
 },
 "nbformat": 4,
 "nbformat_minor": 5
}
