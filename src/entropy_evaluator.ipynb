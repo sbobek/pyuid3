{
 "cells": [
  {
   "cell_type": "code",
   "execution_count": null,
   "id": "legal-deadline",
   "metadata": {},
   "outputs": [],
   "source": [
    "# default_exp entropy_evaluator"
   ]
  },
  {
   "cell_type": "markdown",
   "id": "split-exemption",
   "metadata": {},
   "source": [
    "# entropy_evaluator\n",
    "> Entropy evaluator."
   ]
  },
  {
   "cell_type": "code",
   "execution_count": null,
   "id": "pending-hindu",
   "metadata": {},
   "outputs": [],
   "source": [
    "# export\n",
    "from abc import ABCMeta, abstractmethod\n",
    "from pyuid3.data import Data"
   ]
  },
  {
   "cell_type": "code",
   "execution_count": null,
   "id": "acquired-container",
   "metadata": {},
   "outputs": [],
   "source": [
    "# export\n",
    "class EntropyEvaluator:\n",
    "    __metaclass__ = ABCMeta\n",
    "\n",
    "    @abstractmethod\n",
    "    def calculate_entropy(self, data: Data) -> float: \n",
    "        raise NotImplementedError"
   ]
  }
 ],
 "metadata": {
  "kernelspec": {
   "display_name": "Python 3",
   "language": "python",
   "name": "python3"
  }
 },
 "nbformat": 4,
 "nbformat_minor": 5
}
