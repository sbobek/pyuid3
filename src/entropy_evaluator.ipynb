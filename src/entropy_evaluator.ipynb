{
 "cells": [
  {
   "cell_type": "code",
   "execution_count": null,
   "id": "described-encyclopedia",
   "metadata": {},
   "outputs": [],
   "source": [
    "# default_exp entropy_evaluator"
   ]
  },
  {
   "cell_type": "markdown",
   "id": "careful-garden",
   "metadata": {},
   "source": [
    "# entropy_evaluator\n",
    "> Entropy evaluator."
   ]
  },
  {
   "cell_type": "code",
   "execution_count": null,
   "id": "false-layout",
   "metadata": {},
   "outputs": [],
   "source": [
    "# export\n",
    "from abc import ABCMeta, abstractmethod\n",
    "from uid3.data import Data"
   ]
  },
  {
   "cell_type": "code",
   "execution_count": null,
   "id": "humanitarian-shield",
   "metadata": {},
   "outputs": [],
   "source": [
    "# export\n",
    "class EntropyEvaluator:\n",
    "    __metaclass__ = ABCMeta\n",
    "\n",
    "    @abstractmethod\n",
    "    def calculate_entropy(self, data: Data) -> float: \n",
    "        raise NotImplementedError"
   ]
  }
 ],
 "metadata": {
  "kernelspec": {
   "display_name": "Python 3",
   "language": "python",
   "name": "python3"
  }
 },
 "nbformat": 4,
 "nbformat_minor": 5
}
