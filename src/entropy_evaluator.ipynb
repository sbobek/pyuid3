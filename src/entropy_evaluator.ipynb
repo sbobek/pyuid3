{
 "cells": [
  {
   "cell_type": "code",
   "execution_count": null,
   "id": "false-layout",
   "metadata": {},
   "outputs": [],
   "source": [
    "from abc import ABCMeta, abstractmethod\n",
    "from ipynb.fs.full.data import Data"
   ]
  },
  {
   "cell_type": "code",
   "execution_count": null,
   "id": "humanitarian-shield",
   "metadata": {},
   "outputs": [],
   "source": [
    "class EntropyEvaluator:\n",
    "    __metaclass__ = ABCMeta\n",
    "\n",
    "    @abstractmethod\n",
    "    def calculate_entropy(self, data: Data) -> float: \n",
    "        raise NotImplementedError"
   ]
  },
  {
   "cell_type": "code",
   "execution_count": null,
   "id": "complimentary-interval",
   "metadata": {},
   "outputs": [],
   "source": []
  }
 ],
 "metadata": {
  "kernelspec": {
   "display_name": "udtree",
   "language": "python",
   "name": "udtree"
  }
 },
 "nbformat": 4,
 "nbformat_minor": 5
}
