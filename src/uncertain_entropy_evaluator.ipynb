{
 "cells": [
  {
   "cell_type": "code",
   "execution_count": null,
   "metadata": {},
   "outputs": [],
   "source": [
    "# default_exp uncertain_entropy_evaluator"
   ]
  },
  {
   "cell_type": "markdown",
   "metadata": {},
   "source": [
    "# UncertainEntropyEvaluator\n",
    "\n",
    "> Class implementing EntropyEvaluator interface for uncertain data."
   ]
  },
  {
   "cell_type": "code",
   "execution_count": null,
   "metadata": {},
   "outputs": [],
   "source": [
    "# export\n",
    "import math\n",
    "\n",
    "from pyuid3.data import Data\n",
    "from pyuid3.entropy_evaluator import EntropyEvaluator"
   ]
  },
  {
   "cell_type": "code",
   "execution_count": null,
   "metadata": {},
   "outputs": [],
   "source": [
    "# export\n",
    "class UncertainEntropyEvaluator(): #sEntropyEvaluator):\n",
    "    \n",
    "    def calculate_entropy(self, data: Data) -> float:\n",
    "        class_att = data.get_attributes()[-1]\n",
    "        probs = data.calculate_statistics(class_att)\n",
    "        entropy = 0\n",
    "        for v in probs.het_statistics():\n",
    "            if v.get_confidence() == 0:\n",
    "                continue\n",
    "            entropy -= v.get_confidence() * math.log2(v.get_confidence()) \n",
    "\n",
    "        return entropy"
   ]
  },
  {
   "cell_type": "markdown",
   "metadata": {},
   "source": [
    "## Examples"
   ]
  },
  {
   "cell_type": "code",
   "execution_count": null,
   "metadata": {},
   "outputs": [
    {
     "data": {
      "text/plain": [
       "0.9402859586706309"
      ]
     },
     "execution_count": null,
     "metadata": {},
     "output_type": "execute_result"
    }
   ],
   "source": [
    "data = Data.parse_uarff(\"../resources/weather.nominal.uncertain.arff\")\n",
    "UncertainEntropyEvaluator().calculate_entropy(data)"
   ]
  }
 ],
 "metadata": {
  "kernelspec": {
   "display_name": "Python 3",
   "language": "python",
   "name": "python3"
  },
  "language_info": {
   "codemirror_mode": {
    "name": "ipython",
    "version": 3
   },
   "file_extension": ".py",
   "mimetype": "text/x-python",
   "name": "python",
   "nbconvert_exporter": "python",
   "pygments_lexer": "ipython3",
   "version": "3.8.5"
  }
 },
 "nbformat": 4,
 "nbformat_minor": 5
}
