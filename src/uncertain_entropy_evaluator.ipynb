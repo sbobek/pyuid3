{
 "cells": [
  {
   "cell_type": "code",
   "execution_count": null,
   "id": "psychological-municipality",
   "metadata": {},
   "outputs": [],
   "source": [
    "# default_exp uncertain_entropy_evaluator"
   ]
  },
  {
   "cell_type": "markdown",
   "id": "false-coaching",
   "metadata": {},
   "source": [
    "# uncertain_entropy_evaluator\n",
    "> Uncertain entropy evaluator."
   ]
  },
  {
   "cell_type": "code",
   "execution_count": null,
   "id": "positive-punishment",
   "metadata": {},
   "outputs": [],
   "source": [
    "# export\n",
    "import math\n",
    "\n",
    "from pyuid3.data import Data\n",
    "from pyuid3.entropy_evaluator import EntropyEvaluator"
   ]
  },
  {
   "cell_type": "code",
   "execution_count": null,
   "id": "compatible-nation",
   "metadata": {},
   "outputs": [],
   "source": [
    "# export\n",
    "class UncertainEntropyEvaluator(EntropyEvaluator):\n",
    "    \n",
    "    def calculate_entropy(self, data: Data) -> float:\n",
    "        class_att = data.get_attributes().get_last()\n",
    "        probs = data.calculate_statistics(class_att)\n",
    "        entropy = 0\n",
    "        for v in probs.get_statistics():\n",
    "            if v.get_confidence() == 0:\n",
    "                continue\n",
    "            entropy -= v.get_confidence() * math.log(v.get_confidence()) / math.log(2.0)\n",
    "\n",
    "        return entropy"
   ]
  },
  {
   "cell_type": "code",
   "execution_count": null,
   "id": "reflected-disaster",
   "metadata": {},
   "outputs": [],
   "source": []
  }
 ],
 "metadata": {
  "kernelspec": {
   "display_name": "Python 3",
   "language": "python",
   "name": "python3"
  }
 },
 "nbformat": 4,
 "nbformat_minor": 5
}
