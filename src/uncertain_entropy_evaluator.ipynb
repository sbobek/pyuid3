{
 "cells": [
  {
   "cell_type": "code",
   "execution_count": null,
   "id": "terminal-democracy",
   "metadata": {},
   "outputs": [],
   "source": [
    "# default_exp uncertain_entropy_evaluator"
   ]
  },
  {
   "cell_type": "markdown",
   "id": "social-conversion",
   "metadata": {},
   "source": [
    "# uncertain_entropy_evaluator\n",
    "> Uncertain entropy evaluator."
   ]
  },
  {
   "cell_type": "code",
   "execution_count": null,
   "id": "coral-atlas",
   "metadata": {},
   "outputs": [],
   "source": [
    "# export\n",
    "from uid3.data import Data\n",
    "from uid3.entropy_evaluator import EntropyEvaluator"
   ]
  },
  {
   "cell_type": "code",
   "execution_count": null,
   "id": "dress-optics",
   "metadata": {},
   "outputs": [],
   "source": [
    "# export\n",
    "class UncertainEntropyEvaluator(EntropyEvaluator):\n",
    "    \n",
    "    def calculate_entropy(self, data: Data) -> float:\n",
    "        pass"
   ]
  }
 ],
 "metadata": {
  "kernelspec": {
   "display_name": "Python 3",
   "language": "python",
   "name": "python3"
  }
 },
 "nbformat": 4,
 "nbformat_minor": 5
}
