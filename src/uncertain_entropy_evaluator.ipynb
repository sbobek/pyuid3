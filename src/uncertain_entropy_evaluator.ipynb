{
 "cells": [
  {
   "cell_type": "code",
   "execution_count": null,
   "id": "coral-atlas",
   "metadata": {},
   "outputs": [],
   "source": [
    "from ipynb.fs.full.data import Data\n",
    "from ipynb.fs.full.entropy_evaluator import EntropyEvaluator"
   ]
  },
  {
   "cell_type": "code",
   "execution_count": null,
   "id": "dress-optics",
   "metadata": {},
   "outputs": [],
   "source": [
    "class UncertainEntropyEvaluator(EntropyEvaluator):\n",
    "    \n",
    "    def calculate_entropy(self, data: Data) -> float:\n",
    "        pass"
   ]
  }
 ],
 "metadata": {
  "kernelspec": {
   "display_name": "udtree",
   "language": "python",
   "name": "udtree"
  }
 },
 "nbformat": 4,
 "nbformat_minor": 5
}
