{
 "cells": [
  {
   "cell_type": "code",
   "execution_count": null,
   "id": "significant-position",
   "metadata": {},
   "outputs": [],
   "source": [
    "# default_exp uncertain_entropy_evaluator"
   ]
  },
  {
   "cell_type": "markdown",
   "id": "adapted-possession",
   "metadata": {},
   "source": [
    "# UncertainEntropyEvaluator\n",
    "\n",
    "> Class implementing EntropyEvaluator interface for uncertain data."
   ]
  },
  {
   "cell_type": "code",
   "execution_count": null,
   "id": "dependent-accident",
   "metadata": {},
   "outputs": [],
   "source": [
    "# export\n",
    "import math\n",
    "\n",
    "from pyuid3.data import Data\n",
    "from pyuid3.entropy_evaluator import EntropyEvaluator"
   ]
  },
  {
   "cell_type": "code",
   "execution_count": null,
   "id": "parental-bronze",
   "metadata": {},
   "outputs": [],
   "source": [
    "# export\n",
    "class UncertainEntropyEvaluator(): #sEntropyEvaluator):\n",
    "    \n",
    "    def calculate_entropy(self, data: Data) -> float:\n",
    "        class_att = data.get_attributes()[-1]\n",
    "        probs = data.calculate_statistics(class_att)\n",
    "        entropy = 0\n",
    "        for v in probs.het_statistics():\n",
    "            if v.get_confidence() == 0:\n",
    "                continue\n",
    "            entropy -= v.get_confidence() * math.log(v.get_confidence()) / math.log(2.0)\n",
    "\n",
    "        return entropy"
   ]
  },
  {
   "cell_type": "markdown",
   "id": "missing-electron",
   "metadata": {},
   "source": [
    "## Examples"
   ]
  },
  {
   "cell_type": "code",
   "execution_count": null,
   "id": "scientific-moisture",
   "metadata": {},
   "outputs": [
    {
     "data": {
      "text/plain": [
       "0.9402859586706309"
      ]
     },
     "execution_count": null,
     "metadata": {},
     "output_type": "execute_result"
    }
   ],
   "source": [
    "data = Data.parse_uarff(\"../resources/weather.nominal.uncertain.arff\")\n",
    "UncertainEntropyEvaluator().calculate_entropy(data)"
   ]
  }
 ],
 "metadata": {
  "kernelspec": {
   "display_name": "Python 3",
   "language": "python",
   "name": "python3"
  }
 },
 "nbformat": 4,
 "nbformat_minor": 5
}
