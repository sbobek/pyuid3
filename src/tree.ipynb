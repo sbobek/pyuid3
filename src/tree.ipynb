{
 "cells": [
  {
   "cell_type": "code",
   "execution_count": null,
   "id": "rough-westminster",
   "metadata": {},
   "outputs": [],
   "source": [
    "from ipynb.fs.full.tree_node import TreeNode\n",
    "from ipynb.fs.full.value import Value"
   ]
  },
  {
   "cell_type": "code",
   "execution_count": null,
   "id": "related-wheel",
   "metadata": {},
   "outputs": [],
   "source": [
    "class Tree:\n",
    "    def __init__(self, root: TreeNode):\n",
    "        set_root(root)\n",
    "        \n",
    "    def get_root(self) -> TreeNode:\n",
    "        return self.root\n",
    "    \n",
    "    def set_root(self, root: TreeNode) -> None:\n",
    "        self.root = root"
   ]
  },
  {
   "cell_type": "code",
   "execution_count": null,
   "id": "binding-billion",
   "metadata": {},
   "outputs": [],
   "source": [
    "class Condition:\n",
    "    def __init__(self, att_name: str, value: Value, op='eq'):\n",
    "        self.attName = attName\n",
    "        self.value = value\n",
    "        self.op = op"
   ]
  },
  {
   "cell_type": "code",
   "execution_count": null,
   "id": "medieval-situation",
   "metadata": {},
   "outputs": [],
   "source": []
  }
 ],
 "metadata": {
  "kernelspec": {
   "display_name": "udtree",
   "language": "python",
   "name": "udtree"
  }
 },
 "nbformat": 4,
 "nbformat_minor": 5
}
