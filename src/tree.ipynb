{
 "cells": [
  {
   "cell_type": "code",
   "execution_count": null,
   "id": "controlled-worthy",
   "metadata": {},
   "outputs": [],
   "source": [
    "# default_exp tree"
   ]
  },
  {
   "cell_type": "markdown",
   "id": "knowing-defensive",
   "metadata": {},
   "source": [
    "# tree\n",
    "> Tree"
   ]
  },
  {
   "cell_type": "code",
   "execution_count": null,
   "id": "disabled-latest",
   "metadata": {},
   "outputs": [],
   "source": [
    "# export\n",
    "# from uid3.tree_node import TreeNode\n",
    "from pyuid3.value import Value"
   ]
  },
  {
   "cell_type": "raw",
   "id": "lasting-maine",
   "metadata": {},
   "source": [
    "# export\n",
    "class Tree:\n",
    "    def __init__(self, root: TreeNode):\n",
    "        set_root(root)\n",
    "        \n",
    "    def get_root(self) -> TreeNode:\n",
    "        return self.root\n",
    "    \n",
    "    def set_root(self, root: TreeNode) -> None:\n",
    "        self.root = root\n",
    "        \n",
    "    def predict(self, i: Instance) -> AttStats:\n",
    "        test_node = self.get_root()\n",
    "        while not test_node.is_leaf():\n",
    "            att_to_test = test_node.get_att()\n",
    "            r = i.get_reading_for_attribute(att_to_test)\n",
    "            most_probable = r.get_most_probable()\n",
    "            \n",
    "            new_node = None\n",
    "            for te in test_node.get_edges():\n",
    "                if te.get_value().get_name() == most_probable.get_name():\n",
    "                    new_node = te.getChild()\n",
    "                    break\n",
    "\n",
    "            if new_node:\n",
    "                test_node = new_node\n",
    "            else:\n",
    "                break\n",
    "\n",
    "        return test_node.get_stats()\n",
    "    \n",
    "    def error(self, i: Instance) -> bool:\n",
    "        result = self.predict(i)\n",
    "\n",
    "        return result.get_most_porbable().get_name() == i.get_readings().get_last().get_most_probable().get_name()\n",
    "    \n"
   ]
  },
  {
   "cell_type": "code",
   "execution_count": null,
   "id": "quiet-amendment",
   "metadata": {},
   "outputs": [],
   "source": [
    "# export\n",
    "class Condition:\n",
    "    def __init__(self, att_name: str, value: Value, op='eq'):\n",
    "        self.attName = attName\n",
    "        self.value = value\n",
    "        self.op = op"
   ]
  },
  {
   "cell_type": "code",
   "execution_count": null,
   "id": "tracked-mozambique",
   "metadata": {},
   "outputs": [],
   "source": []
  },
  {
   "cell_type": "code",
   "execution_count": null,
   "id": "recreational-certificate",
   "metadata": {},
   "outputs": [],
   "source": []
  }
 ],
 "metadata": {
  "kernelspec": {
   "display_name": "Python 3",
   "language": "python",
   "name": "python3"
  }
 },
 "nbformat": 4,
 "nbformat_minor": 5
}
