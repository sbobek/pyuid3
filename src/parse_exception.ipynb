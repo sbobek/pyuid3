{
 "cells": [
  {
   "cell_type": "code",
   "execution_count": null,
   "id": "impaired-accuracy",
   "metadata": {},
   "outputs": [],
   "source": [
    "# default_exp parse_exception"
   ]
  },
  {
   "cell_type": "markdown",
   "id": "ordinary-content",
   "metadata": {},
   "source": [
    "# parse_exception\n",
    "> Parse exception."
   ]
  },
  {
   "cell_type": "code",
   "execution_count": null,
   "id": "agricultural-jungle",
   "metadata": {},
   "outputs": [],
   "source": [
    "# export\n",
    "class ParseException(Exception):\n",
    "    def __init__(self, m: str):\n",
    "        super().__init__(m)\n",
    "        "
   ]
  }
 ],
 "metadata": {
  "kernelspec": {
   "display_name": "Python 3",
   "language": "python",
   "name": "python3"
  }
 },
 "nbformat": 4,
 "nbformat_minor": 5
}
