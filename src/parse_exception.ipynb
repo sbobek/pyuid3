{
 "cells": [
  {
   "cell_type": "code",
   "execution_count": null,
   "id": "instant-immunology",
   "metadata": {},
   "outputs": [],
   "source": [
    "# default_exp parse_exception"
   ]
  },
  {
   "cell_type": "markdown",
   "id": "worst-plain",
   "metadata": {},
   "source": [
    "# ParseException\n",
    "> Exception that occured while parsing input stream.\n",
    "\n",
    "**Example:**\n",
    "\n",
    "Probability greater than 1 for some attribute's values."
   ]
  },
  {
   "cell_type": "code",
   "execution_count": null,
   "id": "interior-underwear",
   "metadata": {},
   "outputs": [],
   "source": [
    "# export\n",
    "class ParseException(Exception):\n",
    "    def __init__(self, m: str):\n",
    "        super().__init__(m)\n",
    "        "
   ]
  }
 ],
 "metadata": {
  "kernelspec": {
   "display_name": "Python 3",
   "language": "python",
   "name": "python3"
  }
 },
 "nbformat": 4,
 "nbformat_minor": 5
}
