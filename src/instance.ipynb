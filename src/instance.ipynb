{
 "cells": [
  {
   "cell_type": "code",
   "execution_count": null,
   "id": "olympic-purple",
   "metadata": {},
   "outputs": [],
   "source": [
    "# default_exp instance"
   ]
  },
  {
   "cell_type": "markdown",
   "id": "worthy-institute",
   "metadata": {},
   "source": [
    "# Instance\n",
    "> Class representing a single instance (record).\n",
    "\n",
    "\n",
    "Instance consists of readings for some base attributes.\n",
    "\n",
    "**Example:**\n",
    "\n",
    "\"sunny[0.5];rainy[0.3];overcast[0.2],hot[1];cool[0.0];mild[0.0]\"\n",
    "\n",
    "Instance that stores values with their probabilities for two base attributes \"outlook {sunny, overcast, rainy}\" and \"temperature {hot, mild, cool}\"."
   ]
  },
  {
   "cell_type": "code",
   "execution_count": null,
   "id": "killing-homework",
   "metadata": {},
   "outputs": [],
   "source": [
    "# export\n",
    "from typing import List\n",
    "\n",
    "# from pyuid3.attribute import Attribute   # may cause problems\n",
    "from pyuid3.reading import Reading"
   ]
  },
  {
   "cell_type": "code",
   "execution_count": null,
   "id": "oriental-convergence",
   "metadata": {},
   "outputs": [],
   "source": [
    "# export\n",
    "class Instance:\n",
    "    def __init__(self, readings: List[Reading] = None):\n",
    "        self.readings = readings\n",
    "        if not readings:\n",
    "            self.readings = []\n",
    "\n",
    "    def get_readings(self) -> List[Reading]:\n",
    "        return self.readings\n",
    "\n",
    "    def get_reading_for_attribute(self, att_name: str) -> Reading:\n",
    "        for r in self.readings:\n",
    "            if r.get_base_att().get_name() == att_name:\n",
    "                return r\n",
    "        return None\n",
    "\n",
    "    def set_readings(self, readings: List[Reading]):\n",
    "        self.readings = readings\n",
    "\n",
    "    def add_reading(self, reading: Reading):\n",
    "        self.readings.append(reading)\n",
    "\n",
    "    def to_arff(self) -> str:\n",
    "        result = ''\n",
    "        for reading in self.readings:\n",
    "            result += str(reading) + ','\n",
    "        result = result[:-1]  # delete the last coma ','\n",
    "        result += '\\n'\n",
    "        return result\n",
    "        "
   ]
  },
  {
   "cell_type": "markdown",
   "id": "corporate-importance",
   "metadata": {},
   "source": [
    "## Tests"
   ]
  },
  {
   "cell_type": "code",
   "execution_count": null,
   "id": "single-sarah",
   "metadata": {},
   "outputs": [],
   "source": [
    "# # export\n",
    "# attribute1 = Attribute('outlook', {'sunny', 'overcast', 'rainy'}, Attribute.TYPE_NOMINAL)\n",
    "# reading_def1 = 'sunny[0.5];rainy[0.3];overcast[0.2]'\n",
    "# reading1 = Reading.parse_reading(attribute1, reading_def1)\n",
    "\n",
    "# attribute2 = Attribute('temperature', {'hot', 'mild', 'cool'}, Attribute.TYPE_NOMINAL)\n",
    "# reading_def2 = 'hot'\n",
    "# reading2 = Reading.parse_reading(attribute2, reading_def2)\n",
    "\n",
    "# instance = Instance([reading1, reading2])\n",
    "# print(instance.to_arff()) # 'sunny[0.5];rainy[0.3];overcast[0.2],hot[1];mild[0.0];cool[0.0]\\n'\n",
    "\n",
    "# outlook_reading = instance.get_reading_for_attribute(attribute1)\n",
    "# print(outlook_reading) # 'sunny[0.5];rainy[0.3];overcast[0.2]'"
   ]
  },
  {
   "cell_type": "code",
   "execution_count": null,
   "id": "fitting-student",
   "metadata": {},
   "outputs": [],
   "source": []
  }
 ],
 "metadata": {
  "kernelspec": {
   "display_name": "Python 3",
   "language": "python",
   "name": "python3"
  }
 },
 "nbformat": 4,
 "nbformat_minor": 5
}
