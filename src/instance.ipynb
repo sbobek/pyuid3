{
 "cells": [
  {
   "cell_type": "code",
   "execution_count": null,
   "id": "roman-glasgow",
   "metadata": {},
   "outputs": [],
   "source": [
    "class Instance:\n",
    "    def __init__(self, readings = []):\n",
    "        self.readings = readings\n",
    "        "
   ]
  }
 ],
 "metadata": {
  "kernelspec": {
   "display_name": "udtree",
   "language": "python",
   "name": "udtree"
  }
 },
 "nbformat": 4,
 "nbformat_minor": 5
}
