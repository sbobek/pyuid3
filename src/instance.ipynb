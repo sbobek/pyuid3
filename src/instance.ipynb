{
 "cells": [
  {
   "cell_type": "code",
   "execution_count": null,
   "id": "liquid-oklahoma",
   "metadata": {},
   "outputs": [],
   "source": [
    "# default_exp instance"
   ]
  },
  {
   "cell_type": "markdown",
   "id": "unsigned-corporation",
   "metadata": {},
   "source": [
    "# instance\n",
    "> Instance."
   ]
  },
  {
   "cell_type": "code",
   "execution_count": null,
   "id": "roman-glasgow",
   "metadata": {},
   "outputs": [],
   "source": [
    "# export\n",
    "class Instance:\n",
    "    def __init__(self, readings = []):\n",
    "        self.readings = readings\n",
    "        "
   ]
  }
 ],
 "metadata": {
  "kernelspec": {
   "display_name": "Python 3",
   "language": "python",
   "name": "python3"
  }
 },
 "nbformat": 4,
 "nbformat_minor": 5
}
