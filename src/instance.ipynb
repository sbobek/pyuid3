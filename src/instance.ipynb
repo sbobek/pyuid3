{
 "cells": [
  {
   "cell_type": "code",
   "execution_count": null,
   "id": "liquid-oklahoma",
   "metadata": {},
   "outputs": [],
   "source": [
    "# default_exp instance"
   ]
  },
  {
   "cell_type": "markdown",
   "id": "unsigned-corporation",
   "metadata": {},
   "source": [
    "# instance\n",
    "> Instance."
   ]
  },
  {
   "cell_type": "code",
   "execution_count": null,
   "id": "bored-rolling",
   "metadata": {},
   "outputs": [],
   "source": [
    "# export\n",
    "from typing import List\n",
    "\n",
    "from uid3.reading import Reading"
   ]
  },
  {
   "cell_type": "code",
   "execution_count": null,
   "id": "roman-glasgow",
   "metadata": {},
   "outputs": [],
   "source": [
    "# export\n",
    "class Instance:\n",
    "    def __init__(self, readings: List[Reading] = None):\n",
    "        self.readings = readings\n",
    "        if not readings:\n",
    "            self.readings = []\n",
    "\n",
    "    def get_readings(self) -> List[Reading]:\n",
    "        return self.readings\n",
    "\n",
    "    def get_reading_for_attribute(self, att_name: str) -> Reading:\n",
    "        for r in self.readings:\n",
    "            if r.get_base_att().get_name() == att_name:\n",
    "                return r\n",
    "        return None\n",
    "\n",
    "    def set_readings(self, readings: List[Reading]):\n",
    "        self.readings = readings\n",
    "\n",
    "    def add_reading(self, reading: Reading):\n",
    "        self.readings.append(reading)\n",
    "\n",
    "    def to_arff(self) -> str:\n",
    "        result = ''\n",
    "        for reading in self.readings:\n",
    "            result += str(reading) + ','\n",
    "        result = result[:-1]  # delete the last coma ','\n",
    "        result += '\\n'\n",
    "        return result\n",
    "        "
   ]
  }
 ],
 "metadata": {
  "kernelspec": {
   "display_name": "Python 3",
   "language": "python",
   "name": "python3"
  }
 },
 "nbformat": 4,
 "nbformat_minor": 5
}
