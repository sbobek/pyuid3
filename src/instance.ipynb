{
 "cells": [
  {
   "cell_type": "code",
   "execution_count": null,
   "id": "bbde81af",
   "metadata": {},
   "outputs": [],
   "source": [
    "# default_exp instance"
   ]
  },
  {
   "cell_type": "markdown",
   "id": "b4dacaa5",
   "metadata": {},
   "source": [
    "# Instance\n",
    "\n",
    "> Class representing a single instance (record).\n"
   ]
  },
  {
   "cell_type": "markdown",
   "id": "1ba45f85",
   "metadata": {},
   "source": [
    "Instance consists of readings for some base attributes.\n",
    "\n",
    "**Example:**\n",
    "\n",
    "\"sunny[0.5];rainy[0.3];overcast[0.2],hot[1];cool[0.0];mild[0.0]\"\n",
    "\n",
    "Instance that stores values with their probabilities for two base attributes \"outlook {sunny, overcast, rainy}\" and \"temperature {hot, mild, cool}\"."
   ]
  },
  {
   "cell_type": "code",
   "execution_count": null,
   "id": "e98101db",
   "metadata": {},
   "outputs": [],
   "source": [
    "# export\n",
    "from typing import List,Dict\n",
    "\n",
    "# from pyuid3.attribute import Attribute   # may cause problems\n",
    "from pyuid3.reading import Reading"
   ]
  },
  {
   "cell_type": "code",
   "execution_count": null,
   "id": "c69db986",
   "metadata": {},
   "outputs": [],
   "source": [
    "# export\n",
    "class Instance:\n",
    "    def __init__(self, readings: Dict[str,Reading] = None):\n",
    "        if not readings:\n",
    "            self.set_readings(dict({}))\n",
    "        else:\n",
    "            self.set_readings(readings)\n",
    "\n",
    "    def get_readings(self) ->  Dict[str,Reading]:\n",
    "        return self.readings\n",
    "\n",
    "    def get_reading_for_attribute(self, att_name: str) -> Reading: \n",
    "        return self.readings.get(att_name, None)\n",
    "\n",
    "    def set_readings(self, readings:  Dict[str,Reading]):\n",
    "        self.readings = readings \n",
    "\n",
    "    def add_reading(self, reading: Reading): \n",
    "        self.readings[reading.get_base_att().get_name()] = reading\n",
    "\n",
    "    def to_arff(self) -> str:\n",
    "        result = ''\n",
    "        for reading in self.readings.values():\n",
    "            result += str(reading) + ','\n",
    "        result = result[:-1]  # delete the last coma ','\n",
    "        result += '\\n'\n",
    "        return result"
   ]
  },
  {
   "cell_type": "markdown",
   "id": "e24505b1",
   "metadata": {},
   "source": [
    "## Examples"
   ]
  },
  {
   "cell_type": "code",
   "execution_count": null,
   "id": "8c90c37e",
   "metadata": {},
   "outputs": [
    {
     "name": "stdout",
     "output_type": "stream",
     "text": [
      "sunny[0.5];rainy[0.3];overcast[0.2],hot[1];cool[0.0];mild[0.0]\n",
      "\n",
      "sunny[0.5];rainy[0.3];overcast[0.2]\n"
     ]
    }
   ],
   "source": [
    "from pyuid3.attribute import Attribute\n",
    "\n",
    "attribute1 = Attribute('outlook', {'sunny', 'overcast', 'rainy'}, Attribute.TYPE_NOMINAL)\n",
    "reading_def1 = 'sunny[0.5];rainy[0.3];overcast[0.2]'\n",
    "reading1 = Reading.parse_reading(attribute1, reading_def1)\n",
    "\n",
    "attribute2 = Attribute('temperature', {'hot', 'mild', 'cool'}, Attribute.TYPE_NOMINAL)\n",
    "reading_def2 = 'hot'\n",
    "reading2 = Reading.parse_reading(attribute2, reading_def2)\n",
    "\n",
    "instance = Instance([reading1, reading2])\n",
    "print(instance.to_arff()) # 'sunny[0.5];rainy[0.3];overcast[0.2],hot[1];mild[0.0];cool[0.0]\\n'\n",
    "\n",
    "outlook_reading = instance.get_reading_for_attribute(attribute1)\n",
    "print(outlook_reading) # 'sunny[0.5];rainy[0.3];overcast[0.2]'"
   ]
  }
 ],
 "metadata": {
  "kernelspec": {
   "display_name": "Python 3 (ipykernel)",
   "language": "python",
   "name": "python3"
  },
  "language_info": {
   "codemirror_mode": {
    "name": "ipython",
    "version": 3
   },
   "file_extension": ".py",
   "mimetype": "text/x-python",
   "name": "python",
   "nbconvert_exporter": "python",
   "pygments_lexer": "ipython3",
   "version": "3.8.13"
  }
 },
 "nbformat": 4,
 "nbformat_minor": 5
}
