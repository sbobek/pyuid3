{
 "cells": [
  {
   "cell_type": "code",
   "execution_count": null,
   "id": "awful-ottawa",
   "metadata": {},
   "outputs": [],
   "source": [
    "# default_exp value"
   ]
  },
  {
   "cell_type": "markdown",
   "id": "experimental-apollo",
   "metadata": {},
   "source": [
    "# Value\n",
    "> Class representing a single value and it's confidence.\n"
   ]
  },
  {
   "cell_type": "markdown",
   "id": "assisted-portuguese",
   "metadata": {},
   "source": [
    "Value is an element from attribute domain.\n",
    "\n",
    "**Example**:\n",
    "\n",
    "For a given attribute: \"outlook {sunny, overcast, rainy}\", \"sunny[0.7]\" is one of possible values."
   ]
  },
  {
   "cell_type": "code",
   "execution_count": null,
   "id": "heated-colon",
   "metadata": {},
   "outputs": [],
   "source": [
    "# export\n",
    "from typing import Dict\n",
    "\n",
    "class Value:\n",
    "    def __init__(self, name: str, confidence: float, importances : Dict= None ):\n",
    "        if importances is None:\n",
    "            self.importances = dict({'__all__':1})\n",
    "        else:\n",
    "            self.importances = importances\n",
    "            \n",
    "        self.confidence = confidence\n",
    "        self.name = name\n",
    "\n",
    "    def get_name(self) -> str:\n",
    "        return self.name\n",
    "\n",
    "    def get_confidence(self) -> float:\n",
    "        return self.confidence\n",
    "    \n",
    "    def get_importances(self) -> Dict:\n",
    "        return self.importances\n",
    "    \n",
    "    def get_importance_for_class(class_label:str) -> float:\n",
    "        return importances[class_label]\n",
    "\n",
    "    def __str__(self) -> str:\n",
    "        return self.get_name() + '[' + str(round(self.get_confidence() * 100.0) / 100.0) + ']'\n",
    "\n",
    "    def __eq__(self, other: 'Value') -> bool:\n",
    "        return self.name == other.get_name()"
   ]
  },
  {
   "cell_type": "markdown",
   "id": "geographic-paint",
   "metadata": {},
   "source": [
    "## Tests"
   ]
  },
  {
   "cell_type": "code",
   "execution_count": null,
   "id": "cultural-block",
   "metadata": {},
   "outputs": [],
   "source": [
    "value = Value('sunny', 0.7)\n",
    "assert value.get_name() == 'sunny'\n",
    "assert value.get_confidence() == 0.7\n",
    "assert str(value) == 'sunny[0.7]'"
   ]
  },
  {
   "cell_type": "code",
   "execution_count": null,
   "id": "wrapped-quality",
   "metadata": {},
   "outputs": [],
   "source": [
    "value2 = Value('rainy', 0.3)\n",
    "assert value != value2"
   ]
  },
  {
   "cell_type": "code",
   "execution_count": null,
   "id": "direct-evolution",
   "metadata": {},
   "outputs": [],
   "source": [
    "value3 = Value('rainy', 0.5)\n",
    "assert value2 == value3"
   ]
  }
 ],
 "metadata": {
  "kernelspec": {
   "display_name": "Python 3 (ipykernel)",
   "language": "python",
   "name": "python3"
  },
  "language_info": {
   "codemirror_mode": {
    "name": "ipython",
    "version": 3
   },
   "file_extension": ".py",
   "mimetype": "text/x-python",
   "name": "python",
   "nbconvert_exporter": "python",
   "pygments_lexer": "ipython3",
   "version": "3.8.13"
  }
 },
 "nbformat": 4,
 "nbformat_minor": 5
}
