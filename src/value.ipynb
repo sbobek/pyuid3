{
 "cells": [
  {
   "cell_type": "code",
   "execution_count": null,
   "id": "awful-ottawa",
   "metadata": {},
   "outputs": [],
   "source": [
    "# default_exp value"
   ]
  },
  {
   "cell_type": "markdown",
   "id": "experimental-apollo",
   "metadata": {},
   "source": [
    "# Value\n",
    "> Class representing a single value and it's confidence.\n",
    "\n",
    "\n",
    "Value is an element from attribute domain.\n",
    "\n",
    "**Example**:\n",
    "\n",
    "For a given attribute: \"outlook {sunny, overcast, rainy}\", \"sunny[0.7]\" is one of possible values."
   ]
  },
  {
   "cell_type": "code",
   "execution_count": null,
   "id": "heated-colon",
   "metadata": {},
   "outputs": [],
   "source": [
    "# export\n",
    "class Value:\n",
    "    def __init__(self, name: str, confidence: float):\n",
    "        self.confidence = confidence\n",
    "        self.name = name\n",
    "\n",
    "    def get_name(self) -> str:\n",
    "        return self.name\n",
    "\n",
    "    def get_confidence(self) -> float:\n",
    "        return self.confidence\n",
    "\n",
    "    def __str__(self) -> str:\n",
    "        return self.get_name() + '[' + str(round(self.get_confidence() * 100.0) / 100.0) + ']'\n",
    "\n",
    "    def __eq__(self, other: 'Value') -> bool:\n",
    "        return self.name == other.get_name()\n",
    "        "
   ]
  },
  {
   "cell_type": "markdown",
   "id": "geographic-paint",
   "metadata": {},
   "source": [
    "## Tests"
   ]
  },
  {
   "cell_type": "code",
   "execution_count": null,
   "id": "cultural-block",
   "metadata": {},
   "outputs": [],
   "source": [
    "value = Value('sunny', 0.7)\n",
    "assert value.get_name() == 'sunny'\n",
    "assert value.get_confidence() == 0.7\n",
    "assert str(value) == 'sunny[0.7]'"
   ]
  },
  {
   "cell_type": "code",
   "execution_count": null,
   "id": "wrapped-quality",
   "metadata": {},
   "outputs": [],
   "source": [
    "value2 = Value('rainy', 0.3)\n",
    "assert value != value2"
   ]
  },
  {
   "cell_type": "code",
   "execution_count": null,
   "id": "direct-evolution",
   "metadata": {},
   "outputs": [],
   "source": [
    "value3 = Value('rainy', 0.5)\n",
    "assert value2 == value3"
   ]
  }
 ],
 "metadata": {
  "kernelspec": {
   "display_name": "Python 3",
   "language": "python",
   "name": "python3"
  }
 },
 "nbformat": 4,
 "nbformat_minor": 5
}
