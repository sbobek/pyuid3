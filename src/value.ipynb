{
 "cells": [
  {
   "cell_type": "code",
   "execution_count": null,
   "id": "beginning-maine",
   "metadata": {},
   "outputs": [],
   "source": [
    "# default_exp value"
   ]
  },
  {
   "cell_type": "markdown",
   "id": "lesser-entertainment",
   "metadata": {},
   "source": [
    "# value\n",
    "> Value."
   ]
  },
  {
   "cell_type": "code",
   "execution_count": null,
   "id": "purple-diana",
   "metadata": {},
   "outputs": [],
   "source": [
    "# export\n",
    "class Value:\n",
    "    def __init__(self, name: str, confidence: float):\n",
    "        self.name = name\n",
    "        self.confidence = confidence\n",
    "        "
   ]
  },
  {
   "cell_type": "code",
   "execution_count": null,
   "id": "found-coverage",
   "metadata": {},
   "outputs": [],
   "source": []
  }
 ],
 "metadata": {
  "kernelspec": {
   "display_name": "Python 3",
   "language": "python",
   "name": "python3"
  }
 },
 "nbformat": 4,
 "nbformat_minor": 5
}
