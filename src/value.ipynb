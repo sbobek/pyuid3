{
 "cells": [
  {
   "cell_type": "code",
   "execution_count": null,
   "id": "buried-duncan",
   "metadata": {},
   "outputs": [],
   "source": [
    "# default_exp value"
   ]
  },
  {
   "cell_type": "markdown",
   "id": "legal-blake",
   "metadata": {},
   "source": [
    "# value\n",
    "> Value."
   ]
  },
  {
   "cell_type": "code",
   "execution_count": null,
   "id": "certain-inside",
   "metadata": {},
   "outputs": [],
   "source": [
    "# export\n",
    "class Value:\n",
    "    def __init__(self, name: str, confidence: float):\n",
    "        self.confidence = confidence\n",
    "        self.name = name\n",
    "\n",
    "    def get_name(self) -> str:\n",
    "        return self.name\n",
    "\n",
    "    def get_confidence(self) -> float:\n",
    "        return self.confidence\n",
    "\n",
    "    def __str__(self) -> str:\n",
    "        return self.get_name() + '[' + str(round(self.get_confidence() * 100.0) / 100.0) + ']'\n",
    "\n",
    "    def __eq__(self, other: 'Value') -> bool:\n",
    "        return self.name == other.get_name()\n",
    "        "
   ]
  },
  {
   "cell_type": "code",
   "execution_count": null,
   "id": "pretty-criminal",
   "metadata": {},
   "outputs": [],
   "source": []
  }
 ],
 "metadata": {
  "kernelspec": {
   "display_name": "Python 3",
   "language": "python",
   "name": "python3"
  }
 },
 "nbformat": 4,
 "nbformat_minor": 5
}
