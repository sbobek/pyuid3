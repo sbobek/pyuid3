{
 "cells": [
  {
   "cell_type": "code",
   "execution_count": null,
   "id": "eleven-therapy",
   "metadata": {},
   "outputs": [],
   "source": [
    "# default_exp value"
   ]
  },
  {
   "cell_type": "markdown",
   "id": "simplified-british",
   "metadata": {},
   "source": [
    "# value\n",
    "> Value."
   ]
  },
  {
   "cell_type": "code",
   "execution_count": null,
   "id": "bored-croatia",
   "metadata": {},
   "outputs": [],
   "source": [
    "# export\n",
    "class Value:\n",
    "    def __init__(self, name: str, confidence: float):\n",
    "        self.name = name\n",
    "        self.confidence = confidence\n"
   ]
  },
  {
   "cell_type": "code",
   "execution_count": null,
   "id": "liquid-smile",
   "metadata": {},
   "outputs": [],
   "source": []
  }
 ],
 "metadata": {
  "kernelspec": {
   "display_name": "Python 3",
   "language": "python",
   "name": "python3"
  }
 },
 "nbformat": 4,
 "nbformat_minor": 5
}
