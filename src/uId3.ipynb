{
 "cells": [
  {
   "cell_type": "code",
   "execution_count": null,
   "id": "violent-skiing",
   "metadata": {},
   "outputs": [],
   "source": [
    "# default_exp uid3"
   ]
  },
  {
   "cell_type": "markdown",
   "id": "diverse-manufacturer",
   "metadata": {},
   "source": [
    "# UId3\n",
    "> UId3"
   ]
  },
  {
   "cell_type": "code",
   "execution_count": null,
   "id": "expired-buddy",
   "metadata": {},
   "outputs": [
    {
     "ename": "ModuleNotFoundError",
     "evalue": "No module named 'graphviz'",
     "output_type": "error",
     "traceback": [
      "\u001b[1;31m---------------------------------------------------------------------------\u001b[0m",
      "\u001b[1;31mModuleNotFoundError\u001b[0m                       Traceback (most recent call last)",
      "\u001b[1;32m<ipython-input-2-b03c722b09ac>\u001b[0m in \u001b[0;36m<module>\u001b[1;34m\u001b[0m\n\u001b[1;32m----> 1\u001b[1;33m \u001b[1;32mfrom\u001b[0m \u001b[0mgraphviz\u001b[0m \u001b[1;32mimport\u001b[0m \u001b[0mSource\u001b[0m\u001b[1;33m\u001b[0m\u001b[1;33m\u001b[0m\u001b[0m\n\u001b[0m\u001b[0;32m      2\u001b[0m \u001b[1;33m\u001b[0m\u001b[0m\n\u001b[0;32m      3\u001b[0m \u001b[1;32mfrom\u001b[0m \u001b[0mpyuid3\u001b[0m\u001b[1;33m.\u001b[0m\u001b[0mattribute\u001b[0m \u001b[1;32mimport\u001b[0m \u001b[0mAttribute\u001b[0m\u001b[1;33m\u001b[0m\u001b[1;33m\u001b[0m\u001b[0m\n\u001b[0;32m      4\u001b[0m \u001b[1;32mfrom\u001b[0m \u001b[0mpyuid3\u001b[0m\u001b[1;33m.\u001b[0m\u001b[0mdata\u001b[0m \u001b[1;32mimport\u001b[0m \u001b[0mData\u001b[0m\u001b[1;33m\u001b[0m\u001b[1;33m\u001b[0m\u001b[0m\n\u001b[0;32m      5\u001b[0m \u001b[1;32mfrom\u001b[0m \u001b[0mpyuid3\u001b[0m\u001b[1;33m.\u001b[0m\u001b[0mentropy_evaluator\u001b[0m \u001b[1;32mimport\u001b[0m \u001b[0mEntropyEvaluator\u001b[0m\u001b[1;33m\u001b[0m\u001b[1;33m\u001b[0m\u001b[0m\n",
      "\u001b[1;31mModuleNotFoundError\u001b[0m: No module named 'graphviz'"
     ]
    }
   ],
   "source": [
    "from graphviz import Source\n",
    "\n",
    "from pyuid3.attribute import Attribute\n",
    "from pyuid3.data import Data\n",
    "from pyuid3.entropy_evaluator import EntropyEvaluator\n",
    "from pyuid3.uncertain_entropy_evaluator import UncertainEntropyEvaluator\n",
    "from pyuid3.tree import Tree\n",
    "from pyuid3.tree_node import TreeNode\n",
    "from pyuid3.tree_edge import TreeEdge\n",
    "from pyuid3.value import Value"
   ]
  },
  {
   "cell_type": "code",
   "execution_count": null,
   "id": "important-biology",
   "metadata": {},
   "outputs": [],
   "source": [
    "# export\n",
    "class UId3:\n",
    "    NODE_SIZE_LIMIT = 1\n",
    "    TREE_DEPTH_LIMIT = 2\n",
    "    GROW_CONFIDENCE_THRESHOLD = 0\n",
    "    \n",
    "    @staticmethod\n",
    "    def grow_tree(data, entropyEvaluator, depth: int):\n",
    "        if len(data.get_instances()) < UId3.NODE_SIZE_LIMIT:\n",
    "            return None\n",
    "        if depth > UId3.TREE_DEPTH_LIMIT:\n",
    "            return None\n",
    "        entropy = UncertainEntropyEvaluator().calculate_entropy(data)\n",
    "    \n",
    "        data.update_attribute_domains()\n",
    "\n",
    "        # of the set is heterogeneous or no attributes to split, just class -- return\n",
    "        # leaf\n",
    "        if entropy == 0 or len(data.get_attributes()) == 1:\n",
    "            # create the only node and summary for it\n",
    "            class_att = data.get_class_attribute()\n",
    "            root = TreeNode(class_att.get_name(), data.calculate_statistics(class_att))\n",
    "            root.set_type(class_att.get_type())\n",
    "            result = Tree(root)\n",
    "            return result\n",
    "\n",
    "        info_gain = 0\n",
    "        best_split = None\n",
    "        for a in data.get_attributes():\n",
    "            if data.get_class_attribute() == a:\n",
    "                continue \n",
    "            values = a.get_domain()\n",
    "            temp_gain = entropy\n",
    "            temp_numeric_gain = 0\n",
    "            stats = data.calculate_statistics(a)\n",
    "            for v in values:\n",
    "                subdata = None\n",
    "                subdataLessThan = None\n",
    "                subdataGreaterEqual = None\n",
    "                if a.get_type() == Attribute.TYPE_NOMINAL:\n",
    "                    subdata = data.filter_nominal_attribute_value(a, v)\n",
    "                elif a.get_type() == Attribute.TYPE_NUMERICAL:\n",
    "                    subdata_less_than = data.filter_numeric_attribute_value(a, v, True)\n",
    "                    subdata_greater_equal = data.filter_numeric_attribute_value(a, v, False)\n",
    "                \n",
    "                if a.get_type() == Attribute.TYPE_NOMINAL:\n",
    "                    temp_gain -= stats.get_stat_for_value(v) * UncertainEntropyEvaluator().calculate_entropy(subdata)\n",
    "                elif a.get_type() == Attribute.TYPE_NUMERICAL:\n",
    "                    single_temp_gain = entropy - stats.get_stat_for_value(v) * (UncertainEntropyEvaluator().calculate_entropy(subdata_less_than) + UncertainEntropyEvaluator().calculate_entropy(subdata_greater_equal))\n",
    "                    if single_temp_gain >= temp_numeric_gain:\n",
    "                        temp_numeric_gain = single_temp_gain\n",
    "                        temp_gain = single_temp_gain\n",
    "                        a.set_value_to_split_on(v)\n",
    "\n",
    "            if temp_gain >= info_gain:\n",
    "                info_gain = temp_gain\n",
    "                best_split = a\n",
    "                a.set_importance_gain(info_gain)\n",
    "\n",
    "        # if nothing better can happen\n",
    "        if best_split == None:\n",
    "            # create the only node and summary for it\n",
    "            class_att = data.get_class_attribute()\n",
    "            root = TreeNode(class_att.get_name(), data.calculate_statistics(class_att))\n",
    "            root.set_type(class_att.get_type())\n",
    "            result = Tree(root)\n",
    "            return result\n",
    "\n",
    "        # Create root node, and recursively go deeper into the tree.\n",
    "        class_att = data.get_class_attribute()\n",
    "        class_stats = data.calculate_statistics(class_att)\n",
    "        root = TreeNode(best_split.get_name(), class_stats)\n",
    "        root.set_type(class_att.get_type())\n",
    "\n",
    "        # attach newly created trees\n",
    "        for val in best_split.get_splittable_domain():\n",
    "            if best_split.get_type() == Attribute.TYPE_NOMINAL:\n",
    "                new_data = data.filter_nominal_attribute_value(best_split, val)\n",
    "                subtree = UId3.grow_tree(new_data, EntropyEvaluator, depth + 1)\n",
    "                best_split_stats = data.calculate_statistics(best_split)\n",
    "                if subtree and best_split_stats.get_most_probable().get_confidence() > UId3.GROW_CONFIDENCE_THRESHOLD:\n",
    "                    root.add_edge(TreeEdge(Value(val, best_split_stats.get_avg_confidence()), subtree.get_root()))\n",
    "                    root.set_infogain(best_split.get_importance_gain())\n",
    "                    \n",
    "            elif best_split.get_type() == Attribute.TYPE_NUMERICAL:\n",
    "                new_data_less_then = data.filter_numeric_attribute_value(best_split, val, True)\n",
    "                new_data_greater_equal = data.filter_numeric_attribute_value(best_split, val, False)\n",
    "                subtree_less_than = UId3.grow_tree(new_data_less_then, EntropyEvaluator, depth + 1)\n",
    "                subtree_greater_equal = UId3.grow_tree(new_data_greater_equal, EntropyEvaluator, depth + 1)\n",
    "                best_split_stats = data.calculate_statistics(best_split)\n",
    "                \n",
    "                if subtree_less_than and best_split_stats.get_most_probable().get_confidence() > UId3.GROW_CONFIDENCE_THRESHOLD:\n",
    "                    root.add_edge(TreeEdge(Value(\"<\" + val, best_split_stats.get_avg_confidence()), subtree_less_than.get_root()))\n",
    "                if subtree_greater_equal and best_split_stats.get_most_porbable().get_confidence() > UId3.GROW_CONFIDENCE_THRESHOLD:\n",
    "                    root.add_edge(TreeEdge(Value(\">=\" + val, best_split_stats.get_avg_confidence()), subtree_greater_equal.get_root()))\n",
    "                root.set_type(Attribute.TYPE_NUMERICAL)\n",
    "                root.set_infogain(best_split.get_importance_gain())\n",
    "                \n",
    "        if len(root.get_edges()) == 0:\n",
    "            root.set_att(data.get_class_attribute().get_name())\n",
    "            root.set_type(data.get_class_attribute().get_type())\n",
    "            \n",
    "        return Tree(root)"
   ]
  },
  {
   "cell_type": "code",
   "execution_count": null,
   "id": "express-adoption",
   "metadata": {},
   "outputs": [],
   "source": [
    "# export\n",
    "def main(type_t=\"infogain\"):\n",
    "    data = Data.parse_uarff(\"../resources/weather.nominal.uncertain.arff\")\n",
    "    t = UId3.grow_tree(data, UncertainEntropyEvaluator(), 0)\n",
    "\n",
    "    if type_t == \"dot\":\n",
    "        result = t.to_dot()\n",
    "        print(result)\n",
    "        s = Source(result, filename=\"test.gv\", format=\"png\")\n",
    "        s.view()\n",
    "    elif type_t == \"str\": \n",
    "        print(str(t))\n",
    "    elif type_t == \"hmr\":\n",
    "        print(t.to_HMR())\n",
    "    elif type_t == \"infogain\":\n",
    "        print(t.get_importances())\n"
   ]
  },
  {
   "cell_type": "code",
   "execution_count": null,
   "id": "handled-terrace",
   "metadata": {},
   "outputs": [
    {
     "ename": "NameError",
     "evalue": "name 'Data' is not defined",
     "output_type": "error",
     "traceback": [
      "\u001b[1;31m---------------------------------------------------------------------------\u001b[0m",
      "\u001b[1;31mNameError\u001b[0m                                 Traceback (most recent call last)",
      "\u001b[1;32m<ipython-input-5-6b679028baf9>\u001b[0m in \u001b[0;36m<module>\u001b[1;34m\u001b[0m\n\u001b[0;32m      1\u001b[0m \u001b[1;31m# export\u001b[0m\u001b[1;33m\u001b[0m\u001b[1;33m\u001b[0m\u001b[1;33m\u001b[0m\u001b[0m\n\u001b[0;32m      2\u001b[0m \u001b[1;32mif\u001b[0m \u001b[0m__name__\u001b[0m \u001b[1;33m==\u001b[0m \u001b[1;34m\"__main__\"\u001b[0m\u001b[1;33m:\u001b[0m\u001b[1;33m\u001b[0m\u001b[1;33m\u001b[0m\u001b[0m\n\u001b[1;32m----> 3\u001b[1;33m     \u001b[0mmain\u001b[0m\u001b[1;33m(\u001b[0m\u001b[1;33m)\u001b[0m\u001b[1;33m\u001b[0m\u001b[1;33m\u001b[0m\u001b[0m\n\u001b[0m",
      "\u001b[1;32m<ipython-input-4-4d236bd12b6c>\u001b[0m in \u001b[0;36mmain\u001b[1;34m(type_t)\u001b[0m\n\u001b[0;32m      1\u001b[0m \u001b[1;31m# export\u001b[0m\u001b[1;33m\u001b[0m\u001b[1;33m\u001b[0m\u001b[1;33m\u001b[0m\u001b[0m\n\u001b[0;32m      2\u001b[0m \u001b[1;32mdef\u001b[0m \u001b[0mmain\u001b[0m\u001b[1;33m(\u001b[0m\u001b[0mtype_t\u001b[0m\u001b[1;33m=\u001b[0m\u001b[1;34m\"infogain\"\u001b[0m\u001b[1;33m)\u001b[0m\u001b[1;33m:\u001b[0m\u001b[1;33m\u001b[0m\u001b[1;33m\u001b[0m\u001b[0m\n\u001b[1;32m----> 3\u001b[1;33m     \u001b[0mdata\u001b[0m \u001b[1;33m=\u001b[0m \u001b[0mData\u001b[0m\u001b[1;33m.\u001b[0m\u001b[0mparse_uarff\u001b[0m\u001b[1;33m(\u001b[0m\u001b[1;34m\"../resources/weather.nominal.uncertain.arff\"\u001b[0m\u001b[1;33m)\u001b[0m\u001b[1;33m\u001b[0m\u001b[1;33m\u001b[0m\u001b[0m\n\u001b[0m\u001b[0;32m      4\u001b[0m     \u001b[0mt\u001b[0m \u001b[1;33m=\u001b[0m \u001b[0mUId3\u001b[0m\u001b[1;33m.\u001b[0m\u001b[0mgrow_tree\u001b[0m\u001b[1;33m(\u001b[0m\u001b[0mdata\u001b[0m\u001b[1;33m,\u001b[0m \u001b[0mUncertainEntropyEvaluator\u001b[0m\u001b[1;33m(\u001b[0m\u001b[1;33m)\u001b[0m\u001b[1;33m,\u001b[0m \u001b[1;36m0\u001b[0m\u001b[1;33m)\u001b[0m\u001b[1;33m\u001b[0m\u001b[1;33m\u001b[0m\u001b[0m\n\u001b[0;32m      5\u001b[0m \u001b[1;33m\u001b[0m\u001b[0m\n",
      "\u001b[1;31mNameError\u001b[0m: name 'Data' is not defined"
     ]
    }
   ],
   "source": [
    "# export\n",
    "if __name__ == \"__main__\":\n",
    "    main()"
   ]
  },
  {
   "cell_type": "code",
   "execution_count": null,
   "id": "bearing-accountability",
   "metadata": {},
   "outputs": [],
   "source": []
  },
  {
   "cell_type": "code",
   "execution_count": null,
   "id": "relative-prize",
   "metadata": {},
   "outputs": [],
   "source": []
  }
 ],
 "metadata": {
  "kernelspec": {
   "display_name": "Python 3",
   "language": "python",
   "name": "python3"
  }
 },
 "nbformat": 4,
 "nbformat_minor": 5
}
