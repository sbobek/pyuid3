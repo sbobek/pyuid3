{
 "cells": [
  {
   "cell_type": "code",
   "execution_count": null,
   "id": "sporting-bradley",
   "metadata": {},
   "outputs": [],
   "source": [
    "# default_exp uid3"
   ]
  },
  {
   "cell_type": "markdown",
   "id": "received-roads",
   "metadata": {},
   "source": [
    "# uid3\n",
    "\n",
    "> Main module."
   ]
  },
  {
   "cell_type": "code",
   "execution_count": null,
   "id": "flexible-savings",
   "metadata": {},
   "outputs": [],
   "source": [
    "# export\n",
    "class UId3:\n",
    "     def __init__(self):\n",
    "        NODE_SIZE_LIMIT = 1\n",
    "        TREE_DEPTH_LIMIT = 2\n",
    "        GROW_CONFIDENCE_THRESHOLD = 0\n",
    "        \n"
   ]
  },
  {
   "cell_type": "code",
   "execution_count": null,
   "id": "improving-court",
   "metadata": {},
   "outputs": [],
   "source": [
    "# export\n",
    "def main():\n",
    "    pass"
   ]
  },
  {
   "cell_type": "code",
   "execution_count": null,
   "id": "foreign-northeast",
   "metadata": {},
   "outputs": [],
   "source": [
    "# export\n",
    "if __name__ == \"__main__\":\n",
    "    main()"
   ]
  }
 ],
 "metadata": {
  "kernelspec": {
   "display_name": "Python 3",
   "language": "python",
   "name": "python3"
  }
 },
 "nbformat": 4,
 "nbformat_minor": 5
}
