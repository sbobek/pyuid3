{
 "cells": [
  {
   "cell_type": "code",
   "execution_count": null,
   "id": "descending-convertible",
   "metadata": {},
   "outputs": [],
   "source": [
    "# default_exp uid3"
   ]
  },
  {
   "cell_type": "markdown",
   "id": "protecting-syria",
   "metadata": {},
   "source": [
    "# UId3\n",
    "> UId3"
   ]
  },
  {
   "cell_type": "code",
   "execution_count": null,
   "id": "recent-lesson",
   "metadata": {},
   "outputs": [],
   "source": [
    "import argparse\n",
    "\n",
    "from pyuid3.data import Data\n",
    "from pyuid3.entropy_evaluator import EntropyEvaluator\n",
    "from pyuid3.tree import Tree"
   ]
  },
  {
   "cell_type": "code",
   "execution_count": null,
   "id": "rapid-progress",
   "metadata": {},
   "outputs": [],
   "source": [
    "# export\n",
    "class UId3:\n",
    "    def __init__(self):\n",
    "        NODE_SIZE_LIMIT = 1\n",
    "        TREE_DEPTH_LIMIT = 2\n",
    "        GROW_CONFIDENCE_THRESHOLD = 0\n",
    "\n",
    "    @staticmethod\n",
    "    def grow_tree(data, entropyEvaluator, depth: int):\n",
    "        if len(data.get_instances()) < NODE_SIZE_LIMIT:\n",
    "            return None\n",
    "        if depth > TREE_DEPTH_LIMIT:\n",
    "            return None\n",
    "        entropy = entropyEvaluator.calculateEntropy(data)\n",
    "\n",
    "        data.update_attribute_domains()\n",
    "\n",
    "        # of the set is heterogeneous or no attributes to split, just class -- return\n",
    "        # leaf\n",
    "        if entropy == 0 or len(data.get_attributes()) == 1:\n",
    "            # create the only node and summary for it\n",
    "            class_att = data.get_class_attribute()\n",
    "            root = TreeNode(class_att.get_name(), data.calculate_statistics(class_att))\n",
    "            root.set_type(class_att.get_type())\n",
    "            result = Tree(root)\n",
    "            return result\n",
    "\n",
    "        info_gain = 0\n",
    "        best_split = None\n",
    "        for a in data.get_attributes():\n",
    "            if data.get_class_attribute() == a:\n",
    "                continue \n",
    "            values = a.get_domain()\n",
    "            temp_gain = entropy\n",
    "            temp_numeric_gain = 0\n",
    "            stats = data.calculate_statistics(a)\n",
    "            for v in values:\n",
    "                subdata = None\n",
    "                subdataLessThan = None\n",
    "                subdataGreaterEqual = None\n",
    "                if a.get_type() == Attribute.TYPE_NOMINAL:\n",
    "                    subdata = data.filter_nominal_attribute_value(a, v)\n",
    "                elif a.get_type() == Attribute.TYPE_NUMERICAL:\n",
    "                    subdata_less_than = data.filter_numeric_attribute_value(a, v, true)\n",
    "                    subdata_greater_equal = data.filter_numeric_attribute_value(a, v, false)\n",
    "                \n",
    "                if a.get_type() == Attribute.TYPE_NOMINAL:\n",
    "                    temp_gain -= stats.get_stat_for_value(v) * UncertainEntropyEvaluator().calculate_entropy(subdata)\n",
    "                elif a.get_type() == Attribute.TYPE_NUMERICAL:\n",
    "                    single_temp_gain = entropy - stats.get_stat_for_value(v) * (UncertainEntropyEvaluator().calculate_entropy(subdata_less_than) + UncertainEntropyEvaluator().calculate_entropy(subdata_greater_equal))\n",
    "                    if single_temp_gain >= temp_numeric_gain:\n",
    "                        temp_numeric_gain = single_temp_gain\n",
    "                        temp_gain = single_temp_gain\n",
    "                        a.set_value_to_split_on(v)\n",
    "\n",
    "            if temp_gain >= info_gain:\n",
    "                info_gain = temp_gain\n",
    "                best_split = a\n",
    "                a.set_importance_gain(info_gain)\n",
    "\n",
    "        # if nothing better can happen\n",
    "        if best_split == None:\n",
    "            # create the only node and summary for it\n",
    "            class_att = data.get_class_attribute()\n",
    "            root = TreeNode(class_att.get_name(), data.calculate_statistics(class_att))\n",
    "            root.set_type(class_att.get_type())\n",
    "            result = Tree(root)\n",
    "            return result\n",
    "\n",
    "        # Create root node, and recursively go deeper into the tree.\n",
    "        class_att = data.get_class_attribute()\n",
    "        class_stats = data.calculate_statistics(class_att)\n",
    "        root = TreeNode(best_split.get_name(), class_stats)\n",
    "        root.set_type(class_att.get_type())\n",
    "\n",
    "        # attach newly created trees\n",
    "        for val in best_split.get_spittable_domain():\n",
    "            if best_split.get_type() == Attribute.TYPE_NOMINAL:\n",
    "                new_data = data.filter_nominal_attribute_value(best_split, val)\n",
    "                subtree = UId3.grow_tree(new_data, entropy_evaluator, depth + 1)\n",
    "                best_split_stats = data.calculate_statistics(best_split)\n",
    "                if subtree and best_split_stats.get_most_porbable().get_confidence() > GROW_CONFIDENCE_THRESHOLD:\n",
    "                    root.add_edge(TreeEdge(Value(val, best_split_stats.get_avg_confidence()), subtree.get_root()))\n",
    "                    root.set_infogain(best_split.get_importance_gain())\n",
    "\n",
    "            elif best_split.get_type() == Attribute.TYPE_NUMERICAL:\n",
    "                new_data_less_then = data.filter_numeric_attribute_value(best_split, val, true)\n",
    "                new_data_greater_equal = data.filter_numeric_attribute_value(best_split, val, false)\n",
    "                subtreeLessThan = UId3.grow_tree(new_data_less_then, entropy_evaluator, depth + 1)\n",
    "                subtreeGreaterEqual = UId3.grow_tree(newData_greater_equal, entropy_evaluator, depth + 1)\n",
    "\n",
    "                best_split_stats = data.calculate_statistics(best_split)\n",
    "\n",
    "                if subtree_less_than and best_split_stats.get_most_porbable().get_confidence() > GROW_CONFIDENCE_THRESHOLD:\n",
    "                    root.add_edge(TreeEdge(Value(\"<\" + val, best_split_stats.get_avg_confidence()), subtree_less_than.get_root()))\n",
    "\n",
    "                if subtree_greater_equal and best_split_stats.get_most_porbable().get_confidence() > GROW_CONFIDENCE_THRESHOLD:\n",
    "                    root.addEdge(TreeEdge(Value(\">=\" + val, best_split_stats.get_avg_confidence()), subtree_greater_equal.get_root()))\n",
    "                \n",
    "                root.set_type(Attribute.TYPE_NUMERICAL)\n",
    "                root.set_infogain(best_split.get_importance_gain())\n",
    "\n",
    "        if len(root.get_edges()) == 0:\n",
    "            root.set_att(data.get_class_attribute().get_name())\n",
    "            root.set_type(data.get_class_attribute().get_type())\n",
    "\n",
    "        return Tree(root)\n"
   ]
  },
  {
   "cell_type": "code",
   "execution_count": null,
   "id": "preliminary-demonstration",
   "metadata": {},
   "outputs": [
    {
     "data": {
      "text/plain": [
       "_StoreAction(option_strings=['--type'], dest='type', nargs=None, const=None, default=3, type=None, choices=None, help=None, metavar=None)"
      ]
     },
     "execution_count": null,
     "metadata": {},
     "output_type": "execute_result"
    }
   ],
   "source": [
    "parser = argparse.ArgumentParser()\n",
    "parser.add_argument('--type', default=3)"
   ]
  },
  {
   "cell_type": "code",
   "execution_count": null,
   "id": "fantastic-gilbert",
   "metadata": {},
   "outputs": [],
   "source": [
    "# export\n",
    "def main(type_t=\"dot\"):\n",
    "    data = Data.parse_uarff(\"/Users/ola/Develop/udt/resources/weather.nominal.uncertain.arff\")\n",
    "    t = grow_tree(data, UncertainEntropyEvaluator(), 0)\n",
    "\n",
    "    if type_t == \"dot\":\n",
    "        print(t.to_dot())\n",
    "    elif type_t == \"str\": \n",
    "        print(str(t))\n",
    "    elif type_t == \"hmr\":\n",
    "        print(t.to_HMR())\n",
    "    elif type_t == \"infogain\":\n",
    "        print(t.get_importances())\n"
   ]
  },
  {
   "cell_type": "code",
   "execution_count": null,
   "id": "behind-tension",
   "metadata": {},
   "outputs": [
    {
     "ename": "IndexError",
     "evalue": "list index out of range",
     "output_type": "error",
     "traceback": [
      "\u001b[0;31m---------------------------------------------------------------------------\u001b[0m",
      "\u001b[0;31mIndexError\u001b[0m                                Traceback (most recent call last)",
      "\u001b[0;32m<ipython-input-20-a0b563392811>\u001b[0m in \u001b[0;36m<module>\u001b[0;34m\u001b[0m\n\u001b[1;32m      4\u001b[0m     \u001b[0;31m#print(args)\u001b[0m\u001b[0;34m\u001b[0m\u001b[0;34m\u001b[0m\u001b[0;34m\u001b[0m\u001b[0m\n\u001b[1;32m      5\u001b[0m     \u001b[0;31m#main(args)\u001b[0m\u001b[0;34m\u001b[0m\u001b[0;34m\u001b[0m\u001b[0;34m\u001b[0m\u001b[0m\n\u001b[0;32m----> 6\u001b[0;31m     \u001b[0mmain\u001b[0m\u001b[0;34m(\u001b[0m\u001b[0;34m)\u001b[0m\u001b[0;34m\u001b[0m\u001b[0;34m\u001b[0m\u001b[0m\n\u001b[0m",
      "\u001b[0;32m<ipython-input-19-901d26349d31>\u001b[0m in \u001b[0;36mmain\u001b[0;34m(type_t)\u001b[0m\n\u001b[1;32m      1\u001b[0m \u001b[0;31m# export\u001b[0m\u001b[0;34m\u001b[0m\u001b[0;34m\u001b[0m\u001b[0;34m\u001b[0m\u001b[0m\n\u001b[1;32m      2\u001b[0m \u001b[0;32mdef\u001b[0m \u001b[0mmain\u001b[0m\u001b[0;34m(\u001b[0m\u001b[0mtype_t\u001b[0m\u001b[0;34m=\u001b[0m\u001b[0;34m\"dot\"\u001b[0m\u001b[0;34m)\u001b[0m\u001b[0;34m:\u001b[0m\u001b[0;34m\u001b[0m\u001b[0;34m\u001b[0m\u001b[0m\n\u001b[0;32m----> 3\u001b[0;31m     \u001b[0mdata\u001b[0m \u001b[0;34m=\u001b[0m \u001b[0mData\u001b[0m\u001b[0;34m.\u001b[0m\u001b[0mparse_uarff\u001b[0m\u001b[0;34m(\u001b[0m\u001b[0;34m\"/Users/ola/Develop/udt/resources/weather.nominal.uncertain.arff\"\u001b[0m\u001b[0;34m)\u001b[0m\u001b[0;34m\u001b[0m\u001b[0;34m\u001b[0m\u001b[0m\n\u001b[0m\u001b[1;32m      4\u001b[0m     \u001b[0mt\u001b[0m \u001b[0;34m=\u001b[0m \u001b[0mgrow_tree\u001b[0m\u001b[0;34m(\u001b[0m\u001b[0mdata\u001b[0m\u001b[0;34m,\u001b[0m \u001b[0mUncertainEntropyEvaluator\u001b[0m\u001b[0;34m(\u001b[0m\u001b[0;34m)\u001b[0m\u001b[0;34m,\u001b[0m \u001b[0;36m0\u001b[0m\u001b[0;34m)\u001b[0m\u001b[0;34m\u001b[0m\u001b[0;34m\u001b[0m\u001b[0m\n\u001b[1;32m      5\u001b[0m \u001b[0;34m\u001b[0m\u001b[0m\n",
      "\u001b[0;32m~/Develop/pyuid3/src/pyuid3/data.py\u001b[0m in \u001b[0;36mparse_uarff\u001b[0;34m(filename, class_id)\u001b[0m\n\u001b[1;32m    251\u001b[0m             \u001b[0mprint\u001b[0m\u001b[0;34m(\u001b[0m\u001b[0me\u001b[0m\u001b[0;34m)\u001b[0m  \u001b[0;31m# TODO\u001b[0m\u001b[0;34m\u001b[0m\u001b[0;34m\u001b[0m\u001b[0m\n\u001b[1;32m    252\u001b[0m             \u001b[0;32mreturn\u001b[0m \u001b[0;32mNone\u001b[0m\u001b[0;34m\u001b[0m\u001b[0;34m\u001b[0m\u001b[0m\n\u001b[0;32m--> 253\u001b[0;31m         \u001b[0mtemp_data\u001b[0m \u001b[0;34m=\u001b[0m \u001b[0mData\u001b[0m\u001b[0;34m.\u001b[0m\u001b[0m__read_uarff_from_buffer\u001b[0m\u001b[0;34m(\u001b[0m\u001b[0mbr\u001b[0m\u001b[0;34m)\u001b[0m\u001b[0;34m\u001b[0m\u001b[0;34m\u001b[0m\u001b[0m\n\u001b[0m\u001b[1;32m    254\u001b[0m         \u001b[0mbr\u001b[0m\u001b[0;34m.\u001b[0m\u001b[0mclose\u001b[0m\u001b[0;34m(\u001b[0m\u001b[0;34m)\u001b[0m\u001b[0;34m\u001b[0m\u001b[0;34m\u001b[0m\u001b[0m\n\u001b[1;32m    255\u001b[0m         \u001b[0;32mif\u001b[0m \u001b[0;32mnot\u001b[0m \u001b[0mclass_id\u001b[0m\u001b[0;34m:\u001b[0m\u001b[0;34m\u001b[0m\u001b[0;34m\u001b[0m\u001b[0m\n",
      "\u001b[0;32m~/Develop/pyuid3/src/pyuid3/data.py\u001b[0m in \u001b[0;36m__read_uarff_from_buffer\u001b[0;34m(br)\u001b[0m\n\u001b[1;32m    151\u001b[0m         \u001b[0;31m# read instances\u001b[0m\u001b[0;34m\u001b[0m\u001b[0;34m\u001b[0m\u001b[0;34m\u001b[0m\u001b[0m\n\u001b[1;32m    152\u001b[0m         \u001b[0;32mfor\u001b[0m \u001b[0mline\u001b[0m \u001b[0;32min\u001b[0m \u001b[0mbr\u001b[0m\u001b[0;34m:\u001b[0m\u001b[0;34m\u001b[0m\u001b[0;34m\u001b[0m\u001b[0m\n\u001b[0;32m--> 153\u001b[0;31m             \u001b[0minst\u001b[0m \u001b[0;34m=\u001b[0m \u001b[0mData\u001b[0m\u001b[0;34m.\u001b[0m\u001b[0mparse_instances\u001b[0m\u001b[0;34m(\u001b[0m\u001b[0matts\u001b[0m\u001b[0;34m,\u001b[0m \u001b[0mline\u001b[0m\u001b[0;34m.\u001b[0m\u001b[0mstrip\u001b[0m\u001b[0;34m(\u001b[0m\u001b[0;34m)\u001b[0m\u001b[0;34m)\u001b[0m\u001b[0;34m\u001b[0m\u001b[0;34m\u001b[0m\u001b[0m\n\u001b[0m\u001b[1;32m    154\u001b[0m             \u001b[0minsts\u001b[0m\u001b[0;34m.\u001b[0m\u001b[0mappend\u001b[0m\u001b[0;34m(\u001b[0m\u001b[0minst\u001b[0m\u001b[0;34m)\u001b[0m\u001b[0;34m\u001b[0m\u001b[0;34m\u001b[0m\u001b[0m\n\u001b[1;32m    155\u001b[0m \u001b[0;34m\u001b[0m\u001b[0m\n",
      "\u001b[0;32m~/Develop/pyuid3/src/pyuid3/data.py\u001b[0m in \u001b[0;36mparse_instances\u001b[0;34m(base_atts, inst_def)\u001b[0m\n\u001b[1;32m    267\u001b[0m \u001b[0;34m\u001b[0m\u001b[0m\n\u001b[1;32m    268\u001b[0m         \u001b[0;32mfor\u001b[0m \u001b[0mreading\u001b[0m\u001b[0;34m,\u001b[0m \u001b[0matt\u001b[0m \u001b[0;32min\u001b[0m \u001b[0mzip\u001b[0m\u001b[0;34m(\u001b[0m\u001b[0mreadings_defs\u001b[0m\u001b[0;34m,\u001b[0m \u001b[0mbase_atts\u001b[0m\u001b[0;34m)\u001b[0m\u001b[0;34m:\u001b[0m\u001b[0;34m\u001b[0m\u001b[0;34m\u001b[0m\u001b[0m\n\u001b[0;32m--> 269\u001b[0;31m             \u001b[0mr\u001b[0m \u001b[0;34m=\u001b[0m \u001b[0mReading\u001b[0m\u001b[0;34m.\u001b[0m\u001b[0mparse_reading\u001b[0m\u001b[0;34m(\u001b[0m\u001b[0matt\u001b[0m\u001b[0;34m,\u001b[0m \u001b[0mreading\u001b[0m\u001b[0;34m)\u001b[0m\u001b[0;34m\u001b[0m\u001b[0;34m\u001b[0m\u001b[0m\n\u001b[0m\u001b[1;32m    270\u001b[0m             \u001b[0mi\u001b[0m\u001b[0;34m.\u001b[0m\u001b[0madd_reading\u001b[0m\u001b[0;34m(\u001b[0m\u001b[0mr\u001b[0m\u001b[0;34m)\u001b[0m\u001b[0;34m\u001b[0m\u001b[0;34m\u001b[0m\u001b[0m\n\u001b[1;32m    271\u001b[0m         \u001b[0;32mreturn\u001b[0m \u001b[0mi\u001b[0m\u001b[0;34m\u001b[0m\u001b[0;34m\u001b[0m\u001b[0m\n",
      "\u001b[0;32m~/Develop/pyuid3/src/pyuid3/reading.py\u001b[0m in \u001b[0;36mparse_reading\u001b[0;34m(base_att, reading_def)\u001b[0m\n\u001b[1;32m     57\u001b[0m         \u001b[0;32mfor\u001b[0m \u001b[0mv\u001b[0m \u001b[0;32min\u001b[0m \u001b[0mvals\u001b[0m\u001b[0;34m:\u001b[0m\u001b[0;34m\u001b[0m\u001b[0;34m\u001b[0m\u001b[0m\n\u001b[1;32m     58\u001b[0m             \u001b[0mval_prob\u001b[0m \u001b[0;34m=\u001b[0m \u001b[0mre\u001b[0m\u001b[0;34m.\u001b[0m\u001b[0msplit\u001b[0m\u001b[0;34m(\u001b[0m\u001b[0;34mr'[\\[\\]]'\u001b[0m\u001b[0;34m,\u001b[0m \u001b[0mv\u001b[0m\u001b[0;34m)\u001b[0m\u001b[0;34m[\u001b[0m\u001b[0;34m:\u001b[0m\u001b[0;34m-\u001b[0m\u001b[0;36m1\u001b[0m\u001b[0;34m]\u001b[0m\u001b[0;34m\u001b[0m\u001b[0;34m\u001b[0m\u001b[0m\n\u001b[0;32m---> 59\u001b[0;31m             \u001b[0mname\u001b[0m \u001b[0;34m=\u001b[0m \u001b[0mval_prob\u001b[0m\u001b[0;34m[\u001b[0m\u001b[0;36m0\u001b[0m\u001b[0;34m]\u001b[0m\u001b[0;34m.\u001b[0m\u001b[0mstrip\u001b[0m\u001b[0;34m(\u001b[0m\u001b[0;34m)\u001b[0m\u001b[0;34m\u001b[0m\u001b[0;34m\u001b[0m\u001b[0m\n\u001b[0m\u001b[1;32m     60\u001b[0m             \u001b[0mconfidence\u001b[0m \u001b[0;34m=\u001b[0m \u001b[0;36m1\u001b[0m\u001b[0;34m\u001b[0m\u001b[0;34m\u001b[0m\u001b[0m\n\u001b[1;32m     61\u001b[0m             \u001b[0;32mif\u001b[0m \u001b[0mname\u001b[0m \u001b[0;34m==\u001b[0m \u001b[0;34m'?'\u001b[0m\u001b[0;34m:\u001b[0m\u001b[0;34m\u001b[0m\u001b[0;34m\u001b[0m\u001b[0m\n",
      "\u001b[0;31mIndexError\u001b[0m: list index out of range"
     ]
    }
   ],
   "source": [
    "# export\n",
    "if __name__ == \"__main__\":\n",
    "    #args = parser.parse_args()\n",
    "    #print(args)\n",
    "    #main(args)\n",
    "    main()"
   ]
  },
  {
   "cell_type": "code",
   "execution_count": null,
   "id": "substantial-pollution",
   "metadata": {},
   "outputs": [],
   "source": []
  },
  {
   "cell_type": "code",
   "execution_count": null,
   "id": "published-homeless",
   "metadata": {},
   "outputs": [],
   "source": []
  }
 ],
 "metadata": {
  "kernelspec": {
   "display_name": "udtree",
   "language": "python",
   "name": "udtree"
  }
 },
 "nbformat": 4,
 "nbformat_minor": 5
}
