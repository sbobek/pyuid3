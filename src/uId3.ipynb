{
 "cells": [
  {
   "cell_type": "code",
   "execution_count": null,
   "id": "connected-planner",
   "metadata": {},
   "outputs": [],
   "source": [
    "class UId3:\n",
    "     def __init__(self):\n",
    "        NODE_SIZE_LIMIT = 1\n",
    "        TREE_DEPTH_LIMIT = 2\n",
    "        GROW_CONFIDENCE_THRESHOLD = 0\n",
    "        "
   ]
  },
  {
   "cell_type": "code",
   "execution_count": null,
   "id": "younger-cosmetic",
   "metadata": {},
   "outputs": [],
   "source": [
    "def main():\n",
    "    pass"
   ]
  },
  {
   "cell_type": "code",
   "execution_count": null,
   "id": "seeing-exhibition",
   "metadata": {},
   "outputs": [],
   "source": [
    "if __name__ == \"__main__\":\n",
    "    main()"
   ]
  }
 ],
 "metadata": {
  "kernelspec": {
   "display_name": "udtree",
   "language": "python",
   "name": "udtree"
  }
 },
 "nbformat": 4,
 "nbformat_minor": 5
}
