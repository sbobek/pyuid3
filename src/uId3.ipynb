{
 "cells": [
  {
   "cell_type": "code",
   "execution_count": null,
   "id": "flush-madagascar",
   "metadata": {},
   "outputs": [],
   "source": [
    "# default_exp uid3"
   ]
  },
  {
   "cell_type": "markdown",
   "id": "prescription-fiction",
   "metadata": {},
   "source": [
    "# UId3\n",
    "> UId3"
   ]
  },
  {
   "cell_type": "code",
   "execution_count": null,
   "id": "exclusive-subscription",
   "metadata": {},
   "outputs": [],
   "source": [
    "import argparse\n",
    "\n",
    "from pyuid3.data import Data\n",
    "from pyuid3.entropy_evaluator import EntropyEvaluator\n",
    "from pyuid3.tree import Tree"
   ]
  },
  {
   "cell_type": "code",
   "execution_count": null,
   "id": "double-sport",
   "metadata": {},
   "outputs": [],
   "source": [
    "# export\n",
    "class UId3:\n",
    "    def __init__(self):\n",
    "        NODE_SIZE_LIMIT = 1\n",
    "        TREE_DEPTH_LIMIT = 2\n",
    "        GROW_CONFIDENCE_THRESHOLD = 0\n",
    "\n",
    "    @staticmethod\n",
    "    def grow_tree(data: Data, entropyEvaluator: EntropyEvaluator, depth: int): # -> Tree:\n",
    "        if len(data.get_instances()) < NODE_SIZE_LIMIT:\n",
    "            return None\n",
    "        if depth > TREE_DEPTH_LIMIT:\n",
    "            return None\n",
    "        entropy = entropyEvaluator.calculateEntropy(data)\n",
    "\n",
    "        data.update_attribute_domains()\n",
    "\n",
    "        # of the set is heterogeneous or no attributes to split, just class -- return\n",
    "        # leaf\n",
    "        if entropy == 0 or len(data.get_attributes()) == 1:\n",
    "            # create the only node and summary for it\n",
    "            class_att = data.get_class_attribute()\n",
    "            root = TreeNode(class_att.get_name(), data.calculate_statistics(class_att))\n",
    "            root.set_type(class_att.get_type())\n",
    "            result = Tree(root)\n",
    "            return result\n",
    "\n",
    "        info_gain = 0\n",
    "        best_split = None\n",
    "        for a in data.get_attributes():\n",
    "            if data.get_class_attribute() == a:\n",
    "                continue #????\n",
    "            values = a.get_domain()\n",
    "            temp_gain = entropy\n",
    "            temp_numeric_gain = 0\n",
    "            stats = data.calculate_statistics(a)\n",
    "            for v in values:\n",
    "                subdata = None\n",
    "                subdataLessThan = None\n",
    "                subdataGreaterEqual = None\n",
    "                if a.get_type() == Attribute.TYPE_NOMINAL:\n",
    "                    subdata = data.filter_nominal_attribute_value(a, v)\n",
    "                elif a.get_type() == Attribute.TYPE_NUMERICAL:\n",
    "                    subdata_less_than = data.filter_numeric_attribute_value(a, v, true)\n",
    "                    subdata_greater_equal = data.filter_numeric_attribute_value(a, v, false)\n",
    "                \n",
    "                if a.get_type() == Attribute.TYPE_NOMINAL:\n",
    "                    temp_gain -= stats.get_stat_for_value(v) * UncertainEntropyEvaluator().calculate_entropy(subdata)\n",
    "                elif a.get_type() == Attribute.TYPE_NUMERICAL:\n",
    "                    single_temp_gain = entropy - stats.get_stat_for_value(v) * (UncertainEntropyEvaluator().calculate_entropy(subdata_less_than) + UncertainEntropyEvaluator().calculate_entropy(subdata_greater_equal))\n",
    "                    if single_temp_gain >= temp_numeric_gain:\n",
    "                        temp_numeric_gain = single_temp_gain\n",
    "                        temp_gain = single_temp_gain\n",
    "                        a.set_value_to_split_on(v)\n",
    "\n",
    "            if temp_gain >= info_gain:\n",
    "                info_gain = temp_gain\n",
    "                best_split = a\n",
    "                a.set_importance_gain(info_gain)\n",
    "\n",
    "        # if nothing better can happen\n",
    "        if best_split == None:\n",
    "            # create the only node and summary for it\n",
    "            class_att = data.get_class_attribute()\n",
    "            root = TreeNode(class_att.get_name(), data.calculate_statistics(class_att))\n",
    "            root.set_type(class_att.get_type())\n",
    "            result = Tree(root)\n",
    "            return result\n",
    "\n",
    "        # Create root node, and recursively go deeper into the tree.\n",
    "        class_att = data.get_class_attribute()\n",
    "        class_stats = data.calculate_statistics(class_att)\n",
    "        root = TreeNode(best_split.get_name(), class_stats)\n",
    "        root.set_type(class_att.get_type())\n",
    "\n",
    "        # attach newly created trees\n",
    "        for val in best_split.get_spittable_domain():\n",
    "            if best_split.get_type() == Attribute.TYPE_NOMINAL:\n",
    "                new_data = data.filter_nominal_attribute_value(best_split, val)\n",
    "                subtree = UId3.grow_tree(new_data, entropy_evaluator, depth + 1)\n",
    "                best_split_stats = data.calculate_statistics(best_split)\n",
    "                if subtree and best_split_stats.get_most_porbable().get_confidence() > GROW_CONFIDENCE_THRESHOLD:\n",
    "                    root.add_edge(TreeEdge(Value(val, best_split_stats.get_avg_confidence()), subtree.get_root()))\n",
    "                    root.set_infogain(best_split.get_importance_gain())\n",
    "\n",
    "            elif best_split.get_type() == Attribute.TYPE_NUMERICAL:\n",
    "                new_data_less_then = data.filter_numeric_attribute_value(best_split, val, true)\n",
    "                new_data_greater_equal = data.filter_numeric_attribute_value(best_split, val, false)\n",
    "                subtreeLessThan = UId3.grow_tree(new_data_less_then, entropy_evaluator, depth + 1)\n",
    "                subtreeGreaterEqual = UId3.grow_tree(newData_greater_equal, entropy_evaluator, depth + 1)\n",
    "\n",
    "                best_split_stats = data.calculate_statistics(best_split)\n",
    "\n",
    "                if subtree_less_than and best_split_stats.get_most_porbable().get_confidence() > GROW_CONFIDENCE_THRESHOLD:\n",
    "                    root.add_edge(TreeEdge(Value(\"<\" + val, best_split_stats.get_avg_confidence()), subtree_less_than.get_root()))\n",
    "\n",
    "                if subtree_greater_equal and best_split_stats.get_most_porbable().get_confidence() > GROW_CONFIDENCE_THRESHOLD:\n",
    "                    root.addEdge(TreeEdge(Value(\">=\" + val, best_split_stats.get_avg_confidence()), subtree_greater_equal.get_root()))\n",
    "                \n",
    "                root.set_type(Attribute.TYPE_NUMERICAL)\n",
    "                root.set_infogain(best_split.get_importance_gain())\n",
    "\n",
    "        if len(root.get_edges()) == 0:\n",
    "            root.set_att(data.get_class_attribute().get_name())\n",
    "            root.set_type(data.get_class_attribute().get_type())\n",
    "\n",
    "        return Tree(root)\n"
   ]
  },
  {
   "cell_type": "code",
   "execution_count": null,
   "id": "known-collar",
   "metadata": {},
   "outputs": [
    {
     "data": {
      "text/plain": [
       "_StoreAction(option_strings=['--sum'], dest='sum', nargs=None, const=None, default=3, type=None, choices=None, help=None, metavar=None)"
      ]
     },
     "execution_count": null,
     "metadata": {},
     "output_type": "execute_result"
    }
   ],
   "source": [
    "parser = argparse.ArgumentParser()\n",
    "parser.add_argument('--type', default=3)"
   ]
  },
  {
   "cell_type": "code",
   "execution_count": null,
   "id": "internal-century",
   "metadata": {},
   "outputs": [],
   "source": [
    "# export\n",
    "def main(args):\n",
    "    data = Data.parse_uarff(\"/Users/ola/Develop/udt/resources/weather.nominal.uncertain.arff\")\n",
    "    t = grow_tree(data, UncertainEntropyEvaluator(), 0)\n",
    "\n",
    "    if args.type == \"dot\":\n",
    "        print(t.to_dot())\n",
    "    elif args.type == \"str\": \n",
    "        print(str(t))\n",
    "    elif args.type == \"hmr\":\n",
    "        print(t.to_HMR())\n",
    "    elif args.type == \"infogain\":\n",
    "        print(t.get_importances())\n"
   ]
  },
  {
   "cell_type": "code",
   "execution_count": null,
   "id": "forbidden-bullet",
   "metadata": {},
   "outputs": [],
   "source": [
    "# export\n",
    "if __name__ == \"__main__\":\n",
    "    args = parser.parse_args(args)\n",
    "    main(args)"
   ]
  },
  {
   "cell_type": "code",
   "execution_count": null,
   "id": "sufficient-vegetarian",
   "metadata": {},
   "outputs": [],
   "source": []
  }
 ],
 "metadata": {
  "kernelspec": {
   "display_name": "udtree",
   "language": "python",
   "name": "udtree"
  }
 },
 "nbformat": 4,
 "nbformat_minor": 5
}
