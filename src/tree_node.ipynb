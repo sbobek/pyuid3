{
 "cells": [
  {
   "cell_type": "code",
   "execution_count": null,
   "id": "broad-fifth",
   "metadata": {},
   "outputs": [],
   "source": [
    "# default_exp tree_node"
   ]
  },
  {
   "cell_type": "markdown",
   "id": "developmental-welsh",
   "metadata": {},
   "source": [
    "# tree_node\n",
    "> Class Tree node defines property of a tree node."
   ]
  },
  {
   "cell_type": "code",
   "execution_count": null,
   "id": "owned-alcohol",
   "metadata": {},
   "outputs": [],
   "source": [
    "# export\n",
    "from pyuid3.attribute import Attribute\n",
    "# from uid3.tree_edge import TreeEdge\n",
    "from pyuid3.att_stats import AttStats"
   ]
  },
  {
   "cell_type": "code",
   "execution_count": null,
   "id": "adopted-break",
   "metadata": {},
   "outputs": [],
   "source": [
    "# export\n",
    "class TreeNode:\n",
    "    def __init__(self, att_name: str, stats: str):\n",
    "        self.att = att_name\n",
    "        self.stats = stats\n",
    "        self.edges = []\n",
    "        self.type = Attribute.TYPE_NOMINAL\n",
    "        self.infogain = 0 #default value of double is 0\n",
    "        \n",
    "    def get_type(self) -> int:\n",
    "        return self.type\n",
    "        \n",
    "    def set_type(self, type_of_node: int) -> None:\n",
    "        self.type = type_of_node\n",
    "\n",
    "    def get_infogain(self) -> float:\n",
    "        return infogain\n",
    "\n",
    "    def set_infogain(self, infogain: float) -> None:\n",
    "        self.infogain = infogain\n",
    "\n",
    "    def add_edge(self, te: 'TreeEdge') -> None:\n",
    "        self.edges.append(te)\n",
    "\n",
    "    def is_leaf(self) -> bool:\n",
    "        return not self.edges\n",
    "\n",
    "    def get_stats(self) -> AttStats:\n",
    "        return self.stats\n",
    "\n",
    "    def set_stats(self, stats: AttStats) -> None:\n",
    "        self.stats = stats\n",
    "    \n",
    "    def get_att(self) -> str:\n",
    "        return self.att\n",
    "\n",
    "    def set_att(self, att: str) -> None:\n",
    "        self.att = att\n",
    "\n",
    "    def get_edges(self) -> list:\n",
    "        return self.edges\n",
    "\n",
    "    def set_edges(self, edges: list) -> None:\n",
    "        self.edges = edges\n",
    "\n",
    "    def __str__(self):\n",
    "        return f'{self.get_att()} : {self.stats}' "
   ]
  },
  {
   "cell_type": "markdown",
   "id": "external-daily",
   "metadata": {},
   "source": [
    "## Examples"
   ]
  },
  {
   "cell_type": "markdown",
   "id": "infectious-dress",
   "metadata": {},
   "source": [
    "Create instance of a class:"
   ]
  },
  {
   "cell_type": "code",
   "execution_count": null,
   "id": "incorporated-default",
   "metadata": {},
   "outputs": [],
   "source": [
    "tree_node_1 = TreeNode('att1', 'stats1')"
   ]
  },
  {
   "cell_type": "markdown",
   "id": "monetary-drive",
   "metadata": {},
   "source": [
    "Show type of node:"
   ]
  },
  {
   "cell_type": "code",
   "execution_count": null,
   "id": "stylish-narrow",
   "metadata": {},
   "outputs": [
    {
     "data": {
      "text/plain": [
       "1"
      ]
     },
     "execution_count": null,
     "metadata": {},
     "output_type": "execute_result"
    }
   ],
   "source": [
    "tree_node_1.get_type()"
   ]
  },
  {
   "cell_type": "code",
   "execution_count": null,
   "id": "hybrid-conservation",
   "metadata": {},
   "outputs": [
    {
     "data": {
      "text/plain": [
       "True"
      ]
     },
     "execution_count": null,
     "metadata": {},
     "output_type": "execute_result"
    }
   ],
   "source": [
    "tree_node_1.is_leaf()"
   ]
  },
  {
   "cell_type": "code",
   "execution_count": null,
   "id": "southeast-enlargement",
   "metadata": {},
   "outputs": [
    {
     "data": {
      "text/plain": [
       "[]"
      ]
     },
     "execution_count": null,
     "metadata": {},
     "output_type": "execute_result"
    }
   ],
   "source": [
    "tree_node_1.get_edges()"
   ]
  },
  {
   "cell_type": "code",
   "execution_count": null,
   "id": "excessive-radiation",
   "metadata": {},
   "outputs": [
    {
     "name": "stdout",
     "output_type": "stream",
     "text": [
      "att1 : stats1\n"
     ]
    }
   ],
   "source": [
    "print(tree_node_1)"
   ]
  },
  {
   "cell_type": "code",
   "execution_count": null,
   "id": "essential-shock",
   "metadata": {},
   "outputs": [
    {
     "data": {
      "text/plain": [
       "'att1 : stats1'"
      ]
     },
     "execution_count": null,
     "metadata": {},
     "output_type": "execute_result"
    }
   ],
   "source": [
    "str(tree_node_1)"
   ]
  },
  {
   "cell_type": "code",
   "execution_count": null,
   "id": "fuzzy-freedom",
   "metadata": {},
   "outputs": [],
   "source": []
  }
 ],
 "metadata": {
  "kernelspec": {
   "display_name": "Python 3",
   "language": "python",
   "name": "python3"
  }
 },
 "nbformat": 4,
 "nbformat_minor": 5
}
