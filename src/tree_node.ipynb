{
 "cells": [
  {
   "cell_type": "code",
   "execution_count": null,
   "id": "graphic-consumption",
   "metadata": {},
   "outputs": [],
   "source": [
    "from ipynb.fs.full.attribute import Attribute"
   ]
  },
  {
   "cell_type": "code",
   "execution_count": null,
   "id": "declared-programmer",
   "metadata": {},
   "outputs": [],
   "source": [
    "class TreeNode:\n",
    "    def __init__(self, att_name: str, stats: str):\n",
    "        self.att = att_name\n",
    "        self.stats = stats\n",
    "        self.type = Attribute.TYPE_NOMINAL\n",
    "        self.infogain = 0\n",
    "        \n",
    "    def get_type(self) -> int:\n",
    "        return type_of_node\n",
    "        \n",
    "    def set_type(self, type_of_node: int) -> None:\n",
    "        self.type = type_of_node\n",
    "\n",
    "    def get_infogain(self) -> float:\n",
    "        return infogain\n",
    "\n",
    "    def set_infogain(self, infogain: float) -> None:\n",
    "        self.infogain = infogain\n",
    "\n",
    "        \n",
    "    #...    "
   ]
  },
  {
   "cell_type": "code",
   "execution_count": null,
   "id": "trying-hunter",
   "metadata": {},
   "outputs": [],
   "source": []
  }
 ],
 "metadata": {
  "kernelspec": {
   "display_name": "udtree",
   "language": "python",
   "name": "udtree"
  }
 },
 "nbformat": 4,
 "nbformat_minor": 5
}
