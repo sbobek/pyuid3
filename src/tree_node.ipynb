{
 "cells": [
  {
   "cell_type": "code",
   "execution_count": null,
   "id": "pregnant-garlic",
   "metadata": {},
   "outputs": [],
   "source": [
    "# default_exp tree_node"
   ]
  },
  {
   "cell_type": "markdown",
   "id": "cleared-arabic",
   "metadata": {},
   "source": [
    "# tree_node\n",
    "> Tree node."
   ]
  },
  {
   "cell_type": "code",
   "execution_count": null,
   "id": "graphic-consumption",
   "metadata": {},
   "outputs": [],
   "source": [
    "# export\n",
    "from uid3.attribute import Attribute"
   ]
  },
  {
   "cell_type": "code",
   "execution_count": null,
   "id": "declared-programmer",
   "metadata": {},
   "outputs": [],
   "source": [
    "# export\n",
    "class TreeNode:\n",
    "    def __init__(self, att_name: str, stats: str):\n",
    "        self.att = att_name\n",
    "        self.stats = stats\n",
    "        self.type = Attribute.TYPE_NOMINAL\n",
    "        self.infogain = 0\n",
    "        \n",
    "    def get_type(self) -> int:\n",
    "        return type_of_node\n",
    "        \n",
    "    def set_type(self, type_of_node: int) -> None:\n",
    "        self.type = type_of_node\n",
    "\n",
    "    def get_infogain(self) -> float:\n",
    "        return infogain\n",
    "\n",
    "    def set_infogain(self, infogain: float) -> None:\n",
    "        self.infogain = infogain\n",
    "\n",
    "        \n",
    "    #...    "
   ]
  }
 ],
 "metadata": {
  "kernelspec": {
   "display_name": "Python 3",
   "language": "python",
   "name": "python3"
  }
 },
 "nbformat": 4,
 "nbformat_minor": 5
}
