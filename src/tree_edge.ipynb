{
 "cells": [
  {
   "cell_type": "code",
   "execution_count": null,
   "id": "presidential-oriental",
   "metadata": {},
   "outputs": [],
   "source": [
    "# default_exp tree_edge"
   ]
  },
  {
   "cell_type": "markdown",
   "id": "integral-scale",
   "metadata": {},
   "source": [
    "# tree_edge\n",
    "> Tree edge."
   ]
  },
  {
   "cell_type": "code",
   "execution_count": null,
   "id": "rocky-month",
   "metadata": {},
   "outputs": [],
   "source": [
    "# export\n",
    "from uid3.value import Value\n",
    "from uid3.tree_node import TreeNode"
   ]
  },
  {
   "cell_type": "code",
   "execution_count": null,
   "id": "refined-tradition",
   "metadata": {},
   "outputs": [],
   "source": [
    "# export\n",
    "class TreeEdge:\n",
    "    def __init__(self, value: Value, child: TreeNode):\n",
    "        self.value = value\n",
    "        self.child = child\n",
    "        "
   ]
  }
 ],
 "metadata": {
  "kernelspec": {
   "display_name": "Python 3",
   "language": "python",
   "name": "python3"
  }
 },
 "nbformat": 4,
 "nbformat_minor": 5
}
