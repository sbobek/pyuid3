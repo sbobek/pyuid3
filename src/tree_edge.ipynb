{
 "cells": [
  {
   "cell_type": "code",
   "execution_count": null,
   "id": "refined-tradition",
   "metadata": {},
   "outputs": [],
   "source": [
    "class TreeEdge:\n",
    "    def __init__(self, value: Value, child: TreeNode):\n",
    "        self.value = value\n",
    "        self.child = child\n",
    "        "
   ]
  }
 ],
 "metadata": {
  "kernelspec": {
   "display_name": "udtree",
   "language": "python",
   "name": "udtree"
  }
 },
 "nbformat": 4,
 "nbformat_minor": 5
}
