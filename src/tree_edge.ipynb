{
 "cells": [
  {
   "cell_type": "code",
   "execution_count": null,
   "id": "developed-baseline",
   "metadata": {},
   "outputs": [],
   "source": [
    "# default_exp tree_edge"
   ]
  },
  {
   "cell_type": "markdown",
   "id": "meaning-pressing",
   "metadata": {},
   "source": [
    "# tree_edge\n",
    "> Tree edge."
   ]
  },
  {
   "cell_type": "code",
   "execution_count": null,
   "id": "breathing-prescription",
   "metadata": {},
   "outputs": [],
   "source": [
    "# export\n",
    "from pyuid3.value import Value\n",
    "from pyuid3.tree_node import TreeNode"
   ]
  },
  {
   "cell_type": "code",
   "execution_count": null,
   "id": "severe-consolidation",
   "metadata": {},
   "outputs": [],
   "source": [
    "# export\n",
    "class TreeEdge:\n",
    "    def __init__(self, value: Value, child: 'TreeNode'):\n",
    "        self.value = value\n",
    "        self.child = child\n",
    "        \n",
    "    def get_value(self) -> Value:\n",
    "        return self.value\n",
    "    \n",
    "    def get_child(self) -> 'TreeNode':\n",
    "        return self.child\n",
    "        "
   ]
  },
  {
   "cell_type": "markdown",
   "id": "warming-secretary",
   "metadata": {},
   "source": [
    "## Examples"
   ]
  },
  {
   "cell_type": "code",
   "execution_count": null,
   "id": "compact-confirmation",
   "metadata": {},
   "outputs": [],
   "source": [
    "val = Value('name1', 5)\n",
    "TN = TreeNode('attribute1', 'stats1')\n",
    "TE = TreeEdge(val, TN) #krawedz z wag 5 prowadzi do wezla TN"
   ]
  },
  {
   "cell_type": "code",
   "execution_count": null,
   "id": "drawn-charm",
   "metadata": {},
   "outputs": [],
   "source": []
  }
 ],
 "metadata": {
  "kernelspec": {
   "display_name": "Python 3",
   "language": "python",
   "name": "python3"
  }
 },
 "nbformat": 4,
 "nbformat_minor": 5
}
