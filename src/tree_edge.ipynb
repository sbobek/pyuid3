{
 "cells": [
  {
   "cell_type": "code",
   "execution_count": null,
   "metadata": {},
   "outputs": [],
   "source": [
    "# default_exp tree_edge"
   ]
  },
  {
   "cell_type": "markdown",
   "metadata": {},
   "source": [
    "# TreeEdge\n",
    "\n",
    "> Class representing single tree edge."
   ]
  },
  {
   "cell_type": "code",
   "execution_count": null,
   "metadata": {},
   "outputs": [],
   "source": [
    "# export\n",
    "from pyuid3.value import Value\n",
    "from pyuid3.tree_node import TreeNode"
   ]
  },
  {
   "cell_type": "code",
   "execution_count": null,
   "metadata": {},
   "outputs": [],
   "source": [
    "# export\n",
    "class TreeEdge:\n",
    "    def __init__(self, value: Value, child: 'TreeNode'):\n",
    "        self.value = value\n",
    "        self.child = child\n",
    "        \n",
    "    def get_value(self) -> Value:\n",
    "        return self.value\n",
    "    \n",
    "    def get_child(self) -> 'TreeNode':\n",
    "        return self.child\n",
    "    \n",
    "    def copy(self):\n",
    "        return type(self)(self.value, self.child.copy())\n",
    "        "
   ]
  },
  {
   "cell_type": "markdown",
   "metadata": {},
   "source": [
    "## Examples"
   ]
  },
  {
   "cell_type": "code",
   "execution_count": null,
   "metadata": {},
   "outputs": [],
   "source": [
    "val = Value('name1', 5)\n",
    "TN = TreeNode('attribute1', 'stats1')\n",
    "TE = TreeEdge(val, TN) #krawedz z wag 5 prowadzi do wezla TN"
   ]
  }
 ],
 "metadata": {
  "kernelspec": {
   "display_name": "Python 3",
   "language": "python",
   "name": "python3"
  },
  "language_info": {
   "codemirror_mode": {
    "name": "ipython",
    "version": 3
   },
   "file_extension": ".py",
   "mimetype": "text/x-python",
   "name": "python",
   "nbconvert_exporter": "python",
   "pygments_lexer": "ipython3",
   "version": "3.8.5"
  }
 },
 "nbformat": 4,
 "nbformat_minor": 5
}
