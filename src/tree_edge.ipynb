{
 "cells": [
  {
   "cell_type": "code",
   "execution_count": null,
   "id": "virtual-australian",
   "metadata": {},
   "outputs": [],
   "source": [
    "# default_exp tree_edge"
   ]
  },
  {
   "cell_type": "markdown",
   "id": "sexual-retreat",
   "metadata": {},
   "source": [
    "# tree_edge\n",
    "> Tree edge."
   ]
  },
  {
   "cell_type": "code",
   "execution_count": null,
   "id": "taken-certification",
   "metadata": {},
   "outputs": [],
   "source": [
    "# export\n",
    "from uid3.value import Value\n",
    "# from uid3.tree_node import TreeNode"
   ]
  },
  {
   "cell_type": "code",
   "execution_count": null,
   "id": "opposite-briefs",
   "metadata": {},
   "outputs": [],
   "source": [
    "# export\n",
    "class TreeEdge:\n",
    "    def __init__(self, value: Value, child: 'TreeNode'):\n",
    "        self.value = value\n",
    "        self.child = child\n",
    "        \n",
    "    def get_value(self) -> Value:\n",
    "        return self.value\n",
    "    \n",
    "    def get_child(self) -> 'TreeNode':\n",
    "        return self.child\n",
    "        "
   ]
  },
  {
   "cell_type": "markdown",
   "id": "reduced-radius",
   "metadata": {},
   "source": [
    "## Examples"
   ]
  },
  {
   "cell_type": "code",
   "execution_count": null,
   "id": "unauthorized-hanging",
   "metadata": {},
   "outputs": [],
   "source": [
    "val = Value('name1', 5)\n",
    "# TN = TreeNode('attribute1', 'stats1')\n",
    "# TE = TreeEdge(val, TN) #krawedz z wag 5 prowadzi do wezla TN"
   ]
  },
  {
   "cell_type": "code",
   "execution_count": null,
   "id": "catholic-height",
   "metadata": {},
   "outputs": [],
   "source": []
  }
 ],
 "metadata": {
  "kernelspec": {
   "display_name": "Python 3",
   "language": "python",
   "name": "python3"
  }
 },
 "nbformat": 4,
 "nbformat_minor": 5
}
