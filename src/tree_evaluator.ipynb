{
 "cells": [
  {
   "cell_type": "code",
   "execution_count": null,
   "id": "confirmed-kentucky",
   "metadata": {},
   "outputs": [],
   "source": [
    "# default_exp tree_evaluator"
   ]
  },
  {
   "cell_type": "markdown",
   "id": "established-journal",
   "metadata": {},
   "source": [
    "# tree_evaluator\n",
    "> Tree evaluator."
   ]
  },
  {
   "cell_type": "code",
   "execution_count": null,
   "id": "julian-brazilian",
   "metadata": {},
   "outputs": [],
   "source": [
    "# export\n",
    "from uid3.att_stats import AttStats"
   ]
  },
  {
   "cell_type": "code",
   "execution_count": null,
   "id": "rotary-harmony",
   "metadata": {},
   "outputs": [],
   "source": [
    "# export\n",
    "class TreeEvaluator:\n",
    "    def __init__(self):\n",
    "        pass"
   ]
  },
  {
   "cell_type": "code",
   "execution_count": null,
   "id": "dated-freeze",
   "metadata": {},
   "outputs": [],
   "source": [
    "# export\n",
    "class BenchmarkResult:\n",
    "    def __init__(self):\n",
    "        pass"
   ]
  },
  {
   "cell_type": "code",
   "execution_count": null,
   "id": "tropical-scoop",
   "metadata": {},
   "outputs": [],
   "source": [
    "# export\n",
    "class Prediction:\n",
    "    def __init__(self, prediction: AttStats, correct_label: str):\n",
    "        self.prediction = prediction\n",
    "        self.correctLabel = correctLabel"
   ]
  },
  {
   "cell_type": "code",
   "execution_count": null,
   "id": "level-invasion",
   "metadata": {},
   "outputs": [],
   "source": [
    "# export\n",
    "class Stats:\n",
    "    def __init__(self, class_label):\n",
    "        self.class_label = class_label"
   ]
  }
 ],
 "metadata": {
  "kernelspec": {
   "display_name": "Python 3",
   "language": "python",
   "name": "python3"
  }
 },
 "nbformat": 4,
 "nbformat_minor": 5
}
