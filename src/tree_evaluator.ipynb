{
 "cells": [
  {
   "cell_type": "code",
   "execution_count": null,
   "id": "chronic-stand",
   "metadata": {},
   "outputs": [],
   "source": [
    "from ipynb.fs.full.att_stats import AttStats"
   ]
  },
  {
   "cell_type": "code",
   "execution_count": null,
   "id": "rotary-harmony",
   "metadata": {},
   "outputs": [],
   "source": [
    "class TreeEvaluator:\n",
    "    def __init__(self):\n",
    "        pass"
   ]
  },
  {
   "cell_type": "code",
   "execution_count": null,
   "id": "dated-freeze",
   "metadata": {},
   "outputs": [],
   "source": [
    "class BenchmarkResult:\n",
    "    def __init__(self):\n",
    "        pass"
   ]
  },
  {
   "cell_type": "code",
   "execution_count": null,
   "id": "tropical-scoop",
   "metadata": {},
   "outputs": [],
   "source": [
    "class Prediction:\n",
    "    def __init__(self, prediction: AttStats, correct_label: str):\n",
    "        self.prediction = prediction\n",
    "        self.correctLabel = correctLabel"
   ]
  },
  {
   "cell_type": "code",
   "execution_count": null,
   "id": "level-invasion",
   "metadata": {},
   "outputs": [],
   "source": [
    "class Stats:\n",
    "    def __init__(self, class_label):\n",
    "        self.class_label = class_label"
   ]
  },
  {
   "cell_type": "code",
   "execution_count": null,
   "id": "southeast-cookie",
   "metadata": {},
   "outputs": [],
   "source": []
  }
 ],
 "metadata": {
  "kernelspec": {
   "display_name": "udtree",
   "language": "python",
   "name": "udtree"
  }
 },
 "nbformat": 4,
 "nbformat_minor": 5
}
